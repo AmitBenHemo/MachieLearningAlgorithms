{
 "cells": [
  {
   "cell_type": "code",
   "execution_count": 10,
   "metadata": {},
   "outputs": [],
   "source": [
    "import numpy as np\n",
    "import pandas as pd\n",
    "import matplotlib as mpl\n",
    "import matplotlib.pyplot as plt"
   ]
  },
  {
   "cell_type": "code",
   "execution_count": 11,
   "metadata": {},
   "outputs": [
    {
     "name": "stdout",
     "output_type": "stream",
     "text": [
      "(891, 12)\n"
     ]
    }
   ],
   "source": [
    "# get titanic & test csv files as a DataFrame\n",
    "train = pd.read_csv(\"train.csv\")\n",
    "print (train.shape)"
   ]
  },
  {
   "cell_type": "code",
   "execution_count": 12,
   "metadata": {},
   "outputs": [
    {
     "data": {
      "text/html": [
       "<div>\n",
       "<style scoped>\n",
       "    .dataframe tbody tr th:only-of-type {\n",
       "        vertical-align: middle;\n",
       "    }\n",
       "\n",
       "    .dataframe tbody tr th {\n",
       "        vertical-align: top;\n",
       "    }\n",
       "\n",
       "    .dataframe thead th {\n",
       "        text-align: right;\n",
       "    }\n",
       "</style>\n",
       "<table border=\"1\" class=\"dataframe\">\n",
       "  <thead>\n",
       "    <tr style=\"text-align: right;\">\n",
       "      <th></th>\n",
       "      <th>PassengerId</th>\n",
       "      <th>Survived</th>\n",
       "      <th>Pclass</th>\n",
       "      <th>Name</th>\n",
       "      <th>Sex</th>\n",
       "      <th>Age</th>\n",
       "      <th>SibSp</th>\n",
       "      <th>Parch</th>\n",
       "      <th>Ticket</th>\n",
       "      <th>Fare</th>\n",
       "      <th>Cabin</th>\n",
       "      <th>Embarked</th>\n",
       "    </tr>\n",
       "  </thead>\n",
       "  <tbody>\n",
       "    <tr>\n",
       "      <th>0</th>\n",
       "      <td>1</td>\n",
       "      <td>0</td>\n",
       "      <td>3</td>\n",
       "      <td>Braund, Mr. Owen Harris</td>\n",
       "      <td>male</td>\n",
       "      <td>22.0</td>\n",
       "      <td>1</td>\n",
       "      <td>0</td>\n",
       "      <td>A/5 21171</td>\n",
       "      <td>7.2500</td>\n",
       "      <td>NaN</td>\n",
       "      <td>S</td>\n",
       "    </tr>\n",
       "    <tr>\n",
       "      <th>1</th>\n",
       "      <td>2</td>\n",
       "      <td>1</td>\n",
       "      <td>1</td>\n",
       "      <td>Cumings, Mrs. John Bradley (Florence Briggs Th...</td>\n",
       "      <td>female</td>\n",
       "      <td>38.0</td>\n",
       "      <td>1</td>\n",
       "      <td>0</td>\n",
       "      <td>PC 17599</td>\n",
       "      <td>71.2833</td>\n",
       "      <td>C85</td>\n",
       "      <td>C</td>\n",
       "    </tr>\n",
       "    <tr>\n",
       "      <th>2</th>\n",
       "      <td>3</td>\n",
       "      <td>1</td>\n",
       "      <td>3</td>\n",
       "      <td>Heikkinen, Miss. Laina</td>\n",
       "      <td>female</td>\n",
       "      <td>26.0</td>\n",
       "      <td>0</td>\n",
       "      <td>0</td>\n",
       "      <td>STON/O2. 3101282</td>\n",
       "      <td>7.9250</td>\n",
       "      <td>NaN</td>\n",
       "      <td>S</td>\n",
       "    </tr>\n",
       "    <tr>\n",
       "      <th>3</th>\n",
       "      <td>4</td>\n",
       "      <td>1</td>\n",
       "      <td>1</td>\n",
       "      <td>Futrelle, Mrs. Jacques Heath (Lily May Peel)</td>\n",
       "      <td>female</td>\n",
       "      <td>35.0</td>\n",
       "      <td>1</td>\n",
       "      <td>0</td>\n",
       "      <td>113803</td>\n",
       "      <td>53.1000</td>\n",
       "      <td>C123</td>\n",
       "      <td>S</td>\n",
       "    </tr>\n",
       "    <tr>\n",
       "      <th>4</th>\n",
       "      <td>5</td>\n",
       "      <td>0</td>\n",
       "      <td>3</td>\n",
       "      <td>Allen, Mr. William Henry</td>\n",
       "      <td>male</td>\n",
       "      <td>35.0</td>\n",
       "      <td>0</td>\n",
       "      <td>0</td>\n",
       "      <td>373450</td>\n",
       "      <td>8.0500</td>\n",
       "      <td>NaN</td>\n",
       "      <td>S</td>\n",
       "    </tr>\n",
       "    <tr>\n",
       "      <th>...</th>\n",
       "      <td>...</td>\n",
       "      <td>...</td>\n",
       "      <td>...</td>\n",
       "      <td>...</td>\n",
       "      <td>...</td>\n",
       "      <td>...</td>\n",
       "      <td>...</td>\n",
       "      <td>...</td>\n",
       "      <td>...</td>\n",
       "      <td>...</td>\n",
       "      <td>...</td>\n",
       "      <td>...</td>\n",
       "    </tr>\n",
       "    <tr>\n",
       "      <th>886</th>\n",
       "      <td>887</td>\n",
       "      <td>0</td>\n",
       "      <td>2</td>\n",
       "      <td>Montvila, Rev. Juozas</td>\n",
       "      <td>male</td>\n",
       "      <td>27.0</td>\n",
       "      <td>0</td>\n",
       "      <td>0</td>\n",
       "      <td>211536</td>\n",
       "      <td>13.0000</td>\n",
       "      <td>NaN</td>\n",
       "      <td>S</td>\n",
       "    </tr>\n",
       "    <tr>\n",
       "      <th>887</th>\n",
       "      <td>888</td>\n",
       "      <td>1</td>\n",
       "      <td>1</td>\n",
       "      <td>Graham, Miss. Margaret Edith</td>\n",
       "      <td>female</td>\n",
       "      <td>19.0</td>\n",
       "      <td>0</td>\n",
       "      <td>0</td>\n",
       "      <td>112053</td>\n",
       "      <td>30.0000</td>\n",
       "      <td>B42</td>\n",
       "      <td>S</td>\n",
       "    </tr>\n",
       "    <tr>\n",
       "      <th>888</th>\n",
       "      <td>889</td>\n",
       "      <td>0</td>\n",
       "      <td>3</td>\n",
       "      <td>Johnston, Miss. Catherine Helen \"Carrie\"</td>\n",
       "      <td>female</td>\n",
       "      <td>NaN</td>\n",
       "      <td>1</td>\n",
       "      <td>2</td>\n",
       "      <td>W./C. 6607</td>\n",
       "      <td>23.4500</td>\n",
       "      <td>NaN</td>\n",
       "      <td>S</td>\n",
       "    </tr>\n",
       "    <tr>\n",
       "      <th>889</th>\n",
       "      <td>890</td>\n",
       "      <td>1</td>\n",
       "      <td>1</td>\n",
       "      <td>Behr, Mr. Karl Howell</td>\n",
       "      <td>male</td>\n",
       "      <td>26.0</td>\n",
       "      <td>0</td>\n",
       "      <td>0</td>\n",
       "      <td>111369</td>\n",
       "      <td>30.0000</td>\n",
       "      <td>C148</td>\n",
       "      <td>C</td>\n",
       "    </tr>\n",
       "    <tr>\n",
       "      <th>890</th>\n",
       "      <td>891</td>\n",
       "      <td>0</td>\n",
       "      <td>3</td>\n",
       "      <td>Dooley, Mr. Patrick</td>\n",
       "      <td>male</td>\n",
       "      <td>32.0</td>\n",
       "      <td>0</td>\n",
       "      <td>0</td>\n",
       "      <td>370376</td>\n",
       "      <td>7.7500</td>\n",
       "      <td>NaN</td>\n",
       "      <td>Q</td>\n",
       "    </tr>\n",
       "  </tbody>\n",
       "</table>\n",
       "<p>891 rows × 12 columns</p>\n",
       "</div>"
      ],
      "text/plain": [
       "     PassengerId  Survived  Pclass  \\\n",
       "0              1         0       3   \n",
       "1              2         1       1   \n",
       "2              3         1       3   \n",
       "3              4         1       1   \n",
       "4              5         0       3   \n",
       "..           ...       ...     ...   \n",
       "886          887         0       2   \n",
       "887          888         1       1   \n",
       "888          889         0       3   \n",
       "889          890         1       1   \n",
       "890          891         0       3   \n",
       "\n",
       "                                                  Name     Sex   Age  SibSp  \\\n",
       "0                              Braund, Mr. Owen Harris    male  22.0      1   \n",
       "1    Cumings, Mrs. John Bradley (Florence Briggs Th...  female  38.0      1   \n",
       "2                               Heikkinen, Miss. Laina  female  26.0      0   \n",
       "3         Futrelle, Mrs. Jacques Heath (Lily May Peel)  female  35.0      1   \n",
       "4                             Allen, Mr. William Henry    male  35.0      0   \n",
       "..                                                 ...     ...   ...    ...   \n",
       "886                              Montvila, Rev. Juozas    male  27.0      0   \n",
       "887                       Graham, Miss. Margaret Edith  female  19.0      0   \n",
       "888           Johnston, Miss. Catherine Helen \"Carrie\"  female   NaN      1   \n",
       "889                              Behr, Mr. Karl Howell    male  26.0      0   \n",
       "890                                Dooley, Mr. Patrick    male  32.0      0   \n",
       "\n",
       "     Parch            Ticket     Fare Cabin Embarked  \n",
       "0        0         A/5 21171   7.2500   NaN        S  \n",
       "1        0          PC 17599  71.2833   C85        C  \n",
       "2        0  STON/O2. 3101282   7.9250   NaN        S  \n",
       "3        0            113803  53.1000  C123        S  \n",
       "4        0            373450   8.0500   NaN        S  \n",
       "..     ...               ...      ...   ...      ...  \n",
       "886      0            211536  13.0000   NaN        S  \n",
       "887      0            112053  30.0000   B42        S  \n",
       "888      2        W./C. 6607  23.4500   NaN        S  \n",
       "889      0            111369  30.0000  C148        C  \n",
       "890      0            370376   7.7500   NaN        Q  \n",
       "\n",
       "[891 rows x 12 columns]"
      ]
     },
     "execution_count": 12,
     "metadata": {},
     "output_type": "execute_result"
    }
   ],
   "source": [
    "train"
   ]
  },
  {
   "cell_type": "code",
   "execution_count": 13,
   "metadata": {},
   "outputs": [
    {
     "data": {
      "text/html": [
       "<div>\n",
       "<style scoped>\n",
       "    .dataframe tbody tr th:only-of-type {\n",
       "        vertical-align: middle;\n",
       "    }\n",
       "\n",
       "    .dataframe tbody tr th {\n",
       "        vertical-align: top;\n",
       "    }\n",
       "\n",
       "    .dataframe thead th {\n",
       "        text-align: right;\n",
       "    }\n",
       "</style>\n",
       "<table border=\"1\" class=\"dataframe\">\n",
       "  <thead>\n",
       "    <tr style=\"text-align: right;\">\n",
       "      <th></th>\n",
       "      <th>Train</th>\n",
       "    </tr>\n",
       "  </thead>\n",
       "  <tbody>\n",
       "    <tr>\n",
       "      <th>Age</th>\n",
       "      <td>177</td>\n",
       "    </tr>\n",
       "    <tr>\n",
       "      <th>Cabin</th>\n",
       "      <td>687</td>\n",
       "    </tr>\n",
       "    <tr>\n",
       "      <th>Embarked</th>\n",
       "      <td>2</td>\n",
       "    </tr>\n",
       "  </tbody>\n",
       "</table>\n",
       "</div>"
      ],
      "text/plain": [
       "          Train\n",
       "Age         177\n",
       "Cabin       687\n",
       "Embarked      2"
      ]
     },
     "execution_count": 13,
     "metadata": {},
     "output_type": "execute_result"
    }
   ],
   "source": [
    "#Checking for missing data\n",
    "NAs = pd.concat([train.isnull().sum()], axis=1, keys=['Train'])\n",
    "NAs[NAs.sum(axis=1) > 0]"
   ]
  },
  {
   "cell_type": "code",
   "execution_count": 14,
   "metadata": {},
   "outputs": [],
   "source": [
    "# Filling missing Age values with mean\n",
    "train['Age'] = train['Age'].fillna(train['Age'].mean())"
   ]
  },
  {
   "cell_type": "code",
   "execution_count": 15,
   "metadata": {},
   "outputs": [],
   "source": [
    "# Filling missing Embarked values with most common value\n",
    "train['Embarked'] = train['Embarked'].fillna(train['Embarked'].mode()[0])"
   ]
  },
  {
   "cell_type": "code",
   "execution_count": 16,
   "metadata": {},
   "outputs": [],
   "source": [
    "train['Pclass'] = train['Pclass'].apply(str)"
   ]
  },
  {
   "cell_type": "code",
   "execution_count": 17,
   "metadata": {},
   "outputs": [],
   "source": [
    "# Getting Dummies from all other categorical vars\n",
    "for col in train.dtypes[train.dtypes == 'object'].index:\n",
    "   for_dummy = train.pop(col)\n",
    "   train = pd.concat([train, pd.get_dummies(for_dummy, prefix=col)], axis=1)"
   ]
  },
  {
   "cell_type": "code",
   "execution_count": 18,
   "metadata": {},
   "outputs": [],
   "source": [
    "labels = train.pop('Survived')\n",
    "from sklearn.model_selection import train_test_split\n",
    "x_train, x_test, y_train, y_test = train_test_split(train, labels, test_size=0.25)\n",
    "x_train, x_val, y_train, y_val = train_test_split(x_train, y_train, test_size=0.25)\n",
    " \n"
   ]
  },
  {
   "cell_type": "code",
   "execution_count": 19,
   "metadata": {},
   "outputs": [
    {
     "data": {
      "text/plain": [
       "GradientBoostingClassifier()"
      ]
     },
     "execution_count": 19,
     "metadata": {},
     "output_type": "execute_result"
    }
   ],
   "source": [
    "from sklearn.ensemble import GradientBoostingClassifier\n",
    "model = GradientBoostingClassifier()\n",
    "model.fit(x_train, y_train)"
   ]
  },
  {
   "cell_type": "code",
   "execution_count": 20,
   "metadata": {},
   "outputs": [],
   "source": [
    "y_pred = model.predict(x_test)"
   ]
  },
  {
   "cell_type": "code",
   "execution_count": 21,
   "metadata": {},
   "outputs": [
    {
     "data": {
      "text/plain": [
       "0.7761258911493651"
      ]
     },
     "execution_count": 21,
     "metadata": {},
     "output_type": "execute_result"
    }
   ],
   "source": [
    "from sklearn.metrics import roc_curve, auc\n",
    "false_positive_rate, true_positive_rate, thresholds = roc_curve(y_test, y_pred)\n",
    "roc_auc = auc(false_positive_rate, true_positive_rate)\n",
    "roc_auc"
   ]
  },
  {
   "cell_type": "code",
   "execution_count": 22,
   "metadata": {},
   "outputs": [
    {
     "data": {
      "image/png": "[encoded data removed]",
      "text/plain": [
       "<Figure size 640x480 with 1 Axes>"
      ]
     },
     "metadata": {},
     "output_type": "display_data"
    }
   ],
   "source": [
    "learning_rates = [1, 0.5, 0.25, 0.1, 0.05, 0.01]\n",
    "train_results = []\n",
    "test_results = []\n",
    "for eta in learning_rates:\n",
    "   model = GradientBoostingClassifier(learning_rate=eta)\n",
    "   model.fit(x_train, y_train)\n",
    "   train_pred = model.predict(x_train)\n",
    "   false_positive_rate, true_positive_rate, thresholds = roc_curve(y_train, train_pred)\n",
    "   roc_auc = auc(false_positive_rate, true_positive_rate)\n",
    "   train_results.append(roc_auc)\n",
    "   y_pred = model.predict(x_test)\n",
    "   false_positive_rate, true_positive_rate, thresholds = roc_curve(y_test, y_pred)\n",
    "   roc_auc = auc(false_positive_rate, true_positive_rate)\n",
    "   test_results.append(roc_auc)\n",
    "from matplotlib.legend_handler import HandlerLine2D\n",
    "line1, = plt.plot(learning_rates, train_results, 'b', label='Train AUC')\n",
    "line2, = plt.plot(learning_rates, test_results, 'r', label='Test AUC')\n",
    "plt.legend(handler_map={line1: HandlerLine2D(numpoints=2)})\n",
    "plt.ylabel('AUC score')\n",
    "plt.xlabel('learning rate')\n",
    "plt.show()"
   ]
  },
  {
   "cell_type": "code",
   "execution_count": 23,
   "metadata": {},
   "outputs": [
    {
     "data": {
      "image/png": "[encoded data removed]",
      "text/plain": [
       "<Figure size 640x480 with 1 Axes>"
      ]
     },
     "metadata": {},
     "output_type": "display_data"
    }
   ],
   "source": [
    "n_estimators = [1, 2, 4, 8, 16, 32, 64, 100, 200]\n",
    "train_results = []\n",
    "test_results = []\n",
    "for estimator in n_estimators:\n",
    "   model = GradientBoostingClassifier(n_estimators=estimator)\n",
    "   model.fit(x_train, y_train)\n",
    "   train_pred = model.predict(x_train)\n",
    "   false_positive_rate, true_positive_rate, thresholds = roc_curve(y_train, train_pred)\n",
    "   roc_auc = auc(false_positive_rate, true_positive_rate)\n",
    "   train_results.append(roc_auc)\n",
    "   y_pred = model.predict(x_test)\n",
    "   false_positive_rate, true_positive_rate, thresholds = roc_curve(y_test, y_pred)\n",
    "   roc_auc = auc(false_positive_rate, true_positive_rate)\n",
    "   test_results.append(roc_auc)\n",
    "from matplotlib.legend_handler import HandlerLine2D\n",
    "line1, = plt.plot(n_estimators, train_results, 'b', label='Train AUC')\n",
    "line2, = plt.plot(n_estimators, test_results, 'r', label='Test AUC')\n",
    "plt.legend(handler_map={line1: HandlerLine2D(numpoints=2)})\n",
    "plt.ylabel('AUC score')\n",
    "plt.xlabel('n_estimators')\n",
    "plt.show()"
   ]
  },
  {
   "cell_type": "code",
   "execution_count": 24,
   "metadata": {},
   "outputs": [],
   "source": [
    "#!pip install hyperopt\n",
    "#!pip install xgboost"
   ]
  },
  {
   "cell_type": "code",
   "execution_count": 25,
   "metadata": {},
   "outputs": [],
   "source": [
    "from hyperopt import hp, fmin, tpe, STATUS_OK, Trials\n",
    "import xgboost as xgb\n",
    "from sklearn.metrics import roc_auc_score"
   ]
  },
  {
   "cell_type": "code",
   "execution_count": 26,
   "metadata": {},
   "outputs": [
    {
     "name": "stdout",
     "output_type": "stream",
     "text": [
      "Current max depth selected by algorithm:                                                                               \n",
      "26                                                                                                                     \n",
      "  0%|                                                                          | 0/100 [00:00<?, ?trial/s, best loss=?]"
     ]
    },
    {
     "name": "stderr",
     "output_type": "stream",
     "text": [
      "C:\\Users\\Shay\\AppData\\Roaming\\Python\\Python39\\site-packages\\xgboost\\sklearn.py:861: UserWarning: `eval_metric` in `fit` method is deprecated for better compatibility with scikit-learn, use `eval_metric` in constructor or`set_params` instead.\n",
      "  warnings.warn(\n",
      "\n",
      "C:\\Users\\Shay\\AppData\\Roaming\\Python\\Python39\\site-packages\\xgboost\\sklearn.py:861: UserWarning: `early_stopping_rounds` in `fit` method is deprecated for better compatibility with scikit-learn, use `early_stopping_rounds` in constructor or`set_params` instead.\n",
      "  warnings.warn(\n",
      "\n"
     ]
    },
    {
     "name": "stdout",
     "output_type": "stream",
     "text": [
      "[0]\tvalidation_0-auc:0.93523\tvalidation_1-auc:0.83502                                                                  \n",
      "[1]\tvalidation_0-auc:0.94252\tvalidation_1-auc:0.85614                                                                  \n",
      "[2]\tvalidation_0-auc:0.96508\tvalidation_1-auc:0.84224                                                                  \n",
      "[3]\tvalidation_0-auc:0.97334\tvalidation_1-auc:0.84378                                                                  \n",
      "SCORE:                                                                                                                 \n",
      "0.8561443932411675                                                                                                     \n",
      "Current max depth selected by algorithm:                                                                               \n",
      "10                                                                                                                     \n",
      "  1%|▍                                              | 1/100 [00:02<03:32,  2.15s/trial, best loss: 0.14385560675883247]"
     ]
    },
    {
     "name": "stderr",
     "output_type": "stream",
     "text": [
      "C:\\Users\\Shay\\AppData\\Roaming\\Python\\Python39\\site-packages\\xgboost\\sklearn.py:861: UserWarning: `eval_metric` in `fit` method is deprecated for better compatibility with scikit-learn, use `eval_metric` in constructor or`set_params` instead.\n",
      "  warnings.warn(\n",
      "\n",
      "C:\\Users\\Shay\\AppData\\Roaming\\Python\\Python39\\site-packages\\xgboost\\sklearn.py:861: UserWarning: `early_stopping_rounds` in `fit` method is deprecated for better compatibility with scikit-learn, use `early_stopping_rounds` in constructor or`set_params` instead.\n",
      "  warnings.warn(\n",
      "\n"
     ]
    },
    {
     "name": "stdout",
     "output_type": "stream",
     "text": [
      "[0]\tvalidation_0-auc:0.93445\tvalidation_1-auc:0.83671                                                                  \n",
      "[1]\tvalidation_0-auc:0.94227\tvalidation_1-auc:0.85722                                                                  \n",
      "[2]\tvalidation_0-auc:0.96475\tvalidation_1-auc:0.84240                                                                  \n",
      "[3]\tvalidation_0-auc:0.97344\tvalidation_1-auc:0.84347                                                                  \n",
      "[4]\tvalidation_0-auc:0.97879\tvalidation_1-auc:0.82995                                                                  \n",
      "SCORE:                                                                                                                 \n",
      "0.8572196620583719                                                                                                     \n",
      "Current max depth selected by algorithm:                                                                               \n",
      "29                                                                                                                     \n",
      "  2%|▉                                              | 2/100 [00:02<02:06,  1.29s/trial, best loss: 0.14278033794162814]"
     ]
    },
    {
     "name": "stderr",
     "output_type": "stream",
     "text": [
      "C:\\Users\\Shay\\AppData\\Roaming\\Python\\Python39\\site-packages\\xgboost\\sklearn.py:861: UserWarning: `eval_metric` in `fit` method is deprecated for better compatibility with scikit-learn, use `eval_metric` in constructor or`set_params` instead.\n",
      "  warnings.warn(\n",
      "\n",
      "C:\\Users\\Shay\\AppData\\Roaming\\Python\\Python39\\site-packages\\xgboost\\sklearn.py:861: UserWarning: `early_stopping_rounds` in `fit` method is deprecated for better compatibility with scikit-learn, use `early_stopping_rounds` in constructor or`set_params` instead.\n",
      "  warnings.warn(\n",
      "\n"
     ]
    },
    {
     "name": "stdout",
     "output_type": "stream",
     "text": [
      "[0]\tvalidation_0-auc:0.93523\tvalidation_1-auc:0.83502                                                                  \n",
      "[1]\tvalidation_0-auc:0.94252\tvalidation_1-auc:0.85614                                                                  \n",
      "[2]\tvalidation_0-auc:0.96508\tvalidation_1-auc:0.84224                                                                  \n",
      "[3]\tvalidation_0-auc:0.97334\tvalidation_1-auc:0.84378                                                                  \n",
      "[4]\tvalidation_0-auc:0.97927\tvalidation_1-auc:0.83057                                                                  \n",
      "SCORE:                                                                                                                 \n",
      "0.8561443932411675                                                                                                     \n",
      "Current max depth selected by algorithm:                                                                               \n",
      "14                                                                                                                     \n",
      "  3%|█▍                                             | 3/100 [00:03<01:39,  1.03s/trial, best loss: 0.14278033794162814]"
     ]
    },
    {
     "name": "stderr",
     "output_type": "stream",
     "text": [
      "C:\\Users\\Shay\\AppData\\Roaming\\Python\\Python39\\site-packages\\xgboost\\sklearn.py:861: UserWarning: `eval_metric` in `fit` method is deprecated for better compatibility with scikit-learn, use `eval_metric` in constructor or`set_params` instead.\n",
      "  warnings.warn(\n",
      "\n",
      "C:\\Users\\Shay\\AppData\\Roaming\\Python\\Python39\\site-packages\\xgboost\\sklearn.py:861: UserWarning: `early_stopping_rounds` in `fit` method is deprecated for better compatibility with scikit-learn, use `early_stopping_rounds` in constructor or`set_params` instead.\n",
      "  warnings.warn(\n",
      "\n"
     ]
    },
    {
     "name": "stdout",
     "output_type": "stream",
     "text": [
      "[0]\tvalidation_0-auc:0.93523\tvalidation_1-auc:0.83502                                                                  \n",
      "[1]\tvalidation_0-auc:0.94252\tvalidation_1-auc:0.85614                                                                  \n",
      "[2]\tvalidation_0-auc:0.96508\tvalidation_1-auc:0.84224                                                                  \n",
      "[3]\tvalidation_0-auc:0.97334\tvalidation_1-auc:0.84378                                                                  \n",
      "[4]\tvalidation_0-auc:0.97927\tvalidation_1-auc:0.83057                                                                  \n",
      "SCORE:                                                                                                                 \n",
      "0.8561443932411675                                                                                                     \n",
      "Current max depth selected by algorithm:                                                                               \n",
      "12                                                                                                                     \n",
      "  4%|█▉                                             | 4/100 [00:04<01:24,  1.14trial/s, best loss: 0.14278033794162814]"
     ]
    },
    {
     "name": "stderr",
     "output_type": "stream",
     "text": [
      "C:\\Users\\Shay\\AppData\\Roaming\\Python\\Python39\\site-packages\\xgboost\\sklearn.py:861: UserWarning: `eval_metric` in `fit` method is deprecated for better compatibility with scikit-learn, use `eval_metric` in constructor or`set_params` instead.\n",
      "  warnings.warn(\n",
      "\n",
      "C:\\Users\\Shay\\AppData\\Roaming\\Python\\Python39\\site-packages\\xgboost\\sklearn.py:861: UserWarning: `early_stopping_rounds` in `fit` method is deprecated for better compatibility with scikit-learn, use `early_stopping_rounds` in constructor or`set_params` instead.\n",
      "  warnings.warn(\n",
      "\n"
     ]
    },
    {
     "name": "stdout",
     "output_type": "stream",
     "text": [
      "[0]\tvalidation_0-auc:0.93523\tvalidation_1-auc:0.83502                                                                  \n",
      "[1]\tvalidation_0-auc:0.94252\tvalidation_1-auc:0.85614                                                                  \n",
      "[2]\tvalidation_0-auc:0.96508\tvalidation_1-auc:0.84224                                                                  \n",
      "[3]\tvalidation_0-auc:0.97334\tvalidation_1-auc:0.84378                                                                  \n",
      "SCORE:                                                                                                                 \n",
      "0.8561443932411675                                                                                                     \n",
      "Current max depth selected by algorithm:                                                                               \n",
      "8                                                                                                                      \n",
      "  5%|██▎                                            | 5/100 [00:04<01:16,  1.23trial/s, best loss: 0.14278033794162814]"
     ]
    },
    {
     "name": "stderr",
     "output_type": "stream",
     "text": [
      "C:\\Users\\Shay\\AppData\\Roaming\\Python\\Python39\\site-packages\\xgboost\\sklearn.py:861: UserWarning: `eval_metric` in `fit` method is deprecated for better compatibility with scikit-learn, use `eval_metric` in constructor or`set_params` instead.\n",
      "  warnings.warn(\n",
      "\n",
      "C:\\Users\\Shay\\AppData\\Roaming\\Python\\Python39\\site-packages\\xgboost\\sklearn.py:861: UserWarning: `early_stopping_rounds` in `fit` method is deprecated for better compatibility with scikit-learn, use `early_stopping_rounds` in constructor or`set_params` instead.\n",
      "  warnings.warn(\n",
      "\n"
     ]
    },
    {
     "name": "stdout",
     "output_type": "stream",
     "text": [
      "[0]\tvalidation_0-auc:0.92876\tvalidation_1-auc:0.84178                                                                  \n",
      "[1]\tvalidation_0-auc:0.93884\tvalidation_1-auc:0.85361                                                                  \n",
      "[2]\tvalidation_0-auc:0.95729\tvalidation_1-auc:0.83909                                                                  \n",
      "[3]\tvalidation_0-auc:0.96841\tvalidation_1-auc:0.84316                                                                  \n",
      "SCORE:                                                                                                                 \n",
      "0.853609831029186                                                                                                      \n",
      "Current max depth selected by algorithm:                                                                               \n",
      "23                                                                                                                     \n",
      "  6%|██▊                                            | 6/100 [00:05<01:11,  1.32trial/s, best loss: 0.14278033794162814]"
     ]
    },
    {
     "name": "stderr",
     "output_type": "stream",
     "text": [
      "C:\\Users\\Shay\\AppData\\Roaming\\Python\\Python39\\site-packages\\xgboost\\sklearn.py:861: UserWarning: `eval_metric` in `fit` method is deprecated for better compatibility with scikit-learn, use `eval_metric` in constructor or`set_params` instead.\n",
      "  warnings.warn(\n",
      "\n",
      "C:\\Users\\Shay\\AppData\\Roaming\\Python\\Python39\\site-packages\\xgboost\\sklearn.py:861: UserWarning: `early_stopping_rounds` in `fit` method is deprecated for better compatibility with scikit-learn, use `early_stopping_rounds` in constructor or`set_params` instead.\n",
      "  warnings.warn(\n",
      "\n"
     ]
    },
    {
     "name": "stdout",
     "output_type": "stream",
     "text": [
      "[0]\tvalidation_0-auc:0.93523\tvalidation_1-auc:0.83502                                                                  \n",
      "[1]\tvalidation_0-auc:0.94252\tvalidation_1-auc:0.85614                                                                  \n",
      "[2]\tvalidation_0-auc:0.96508\tvalidation_1-auc:0.84224                                                                  \n",
      "[3]\tvalidation_0-auc:0.97334\tvalidation_1-auc:0.84378                                                                  \n",
      "[4]\tvalidation_0-auc:0.97927\tvalidation_1-auc:0.83057                                                                  \n",
      "SCORE:                                                                                                                 \n",
      "0.8561443932411675                                                                                                     \n",
      "Current max depth selected by algorithm:                                                                               \n",
      "19                                                                                                                     \n",
      "  7%|███▎                                           | 7/100 [00:06<01:09,  1.34trial/s, best loss: 0.14278033794162814]"
     ]
    },
    {
     "name": "stderr",
     "output_type": "stream",
     "text": [
      "C:\\Users\\Shay\\AppData\\Roaming\\Python\\Python39\\site-packages\\xgboost\\sklearn.py:861: UserWarning: `eval_metric` in `fit` method is deprecated for better compatibility with scikit-learn, use `eval_metric` in constructor or`set_params` instead.\n",
      "  warnings.warn(\n",
      "\n",
      "C:\\Users\\Shay\\AppData\\Roaming\\Python\\Python39\\site-packages\\xgboost\\sklearn.py:861: UserWarning: `early_stopping_rounds` in `fit` method is deprecated for better compatibility with scikit-learn, use `early_stopping_rounds` in constructor or`set_params` instead.\n",
      "  warnings.warn(\n",
      "\n"
     ]
    },
    {
     "name": "stdout",
     "output_type": "stream",
     "text": [
      "[0]\tvalidation_0-auc:0.93523\tvalidation_1-auc:0.83502                                                                  \n",
      "[1]\tvalidation_0-auc:0.94252\tvalidation_1-auc:0.85614                                                                  \n",
      "[2]\tvalidation_0-auc:0.96508\tvalidation_1-auc:0.84224                                                                  \n",
      "[3]\tvalidation_0-auc:0.97334\tvalidation_1-auc:0.84378                                                                  \n",
      "SCORE:                                                                                                                 \n",
      "0.8561443932411675                                                                                                     \n",
      "Current max depth selected by algorithm:                                                                               \n",
      "20                                                                                                                     \n",
      "  8%|███▊                                           | 8/100 [00:06<01:06,  1.39trial/s, best loss: 0.14278033794162814]"
     ]
    },
    {
     "name": "stderr",
     "output_type": "stream",
     "text": [
      "C:\\Users\\Shay\\AppData\\Roaming\\Python\\Python39\\site-packages\\xgboost\\sklearn.py:861: UserWarning: `eval_metric` in `fit` method is deprecated for better compatibility with scikit-learn, use `eval_metric` in constructor or`set_params` instead.\n",
      "  warnings.warn(\n",
      "\n",
      "C:\\Users\\Shay\\AppData\\Roaming\\Python\\Python39\\site-packages\\xgboost\\sklearn.py:861: UserWarning: `early_stopping_rounds` in `fit` method is deprecated for better compatibility with scikit-learn, use `early_stopping_rounds` in constructor or`set_params` instead.\n",
      "  warnings.warn(\n",
      "\n"
     ]
    },
    {
     "name": "stdout",
     "output_type": "stream",
     "text": [
      "[0]\tvalidation_0-auc:0.93523\tvalidation_1-auc:0.83502                                                                  \n",
      "[1]\tvalidation_0-auc:0.94252\tvalidation_1-auc:0.85614                                                                  \n",
      "[2]\tvalidation_0-auc:0.96508\tvalidation_1-auc:0.84224                                                                  \n",
      "[3]\tvalidation_0-auc:0.97334\tvalidation_1-auc:0.84378                                                                  \n",
      "[4]\tvalidation_0-auc:0.97927\tvalidation_1-auc:0.83057                                                                  \n",
      "SCORE:                                                                                                                 \n",
      "0.8561443932411675                                                                                                     \n",
      "Current max depth selected by algorithm:                                                                               \n",
      "26                                                                                                                     \n",
      "  9%|████▏                                          | 9/100 [00:07<01:03,  1.43trial/s, best loss: 0.14278033794162814]"
     ]
    },
    {
     "name": "stderr",
     "output_type": "stream",
     "text": [
      "C:\\Users\\Shay\\AppData\\Roaming\\Python\\Python39\\site-packages\\xgboost\\sklearn.py:861: UserWarning: `eval_metric` in `fit` method is deprecated for better compatibility with scikit-learn, use `eval_metric` in constructor or`set_params` instead.\n",
      "  warnings.warn(\n",
      "\n",
      "C:\\Users\\Shay\\AppData\\Roaming\\Python\\Python39\\site-packages\\xgboost\\sklearn.py:861: UserWarning: `early_stopping_rounds` in `fit` method is deprecated for better compatibility with scikit-learn, use `early_stopping_rounds` in constructor or`set_params` instead.\n",
      "  warnings.warn(\n",
      "\n"
     ]
    },
    {
     "name": "stdout",
     "output_type": "stream",
     "text": [
      "[0]\tvalidation_0-auc:0.93523\tvalidation_1-auc:0.83502                                                                  \n",
      "[1]\tvalidation_0-auc:0.94252\tvalidation_1-auc:0.85614                                                                  \n",
      "[2]\tvalidation_0-auc:0.96508\tvalidation_1-auc:0.84224                                                                  \n",
      "[3]\tvalidation_0-auc:0.97334\tvalidation_1-auc:0.84378                                                                  \n",
      "SCORE:                                                                                                                 \n",
      "0.8561443932411675                                                                                                     \n",
      "Current max depth selected by algorithm:                                                                               \n",
      "20                                                                                                                     \n",
      " 10%|████▌                                         | 10/100 [00:08<01:01,  1.47trial/s, best loss: 0.14278033794162814]"
     ]
    },
    {
     "name": "stderr",
     "output_type": "stream",
     "text": [
      "C:\\Users\\Shay\\AppData\\Roaming\\Python\\Python39\\site-packages\\xgboost\\sklearn.py:861: UserWarning: `eval_metric` in `fit` method is deprecated for better compatibility with scikit-learn, use `eval_metric` in constructor or`set_params` instead.\n",
      "  warnings.warn(\n",
      "\n",
      "C:\\Users\\Shay\\AppData\\Roaming\\Python\\Python39\\site-packages\\xgboost\\sklearn.py:861: UserWarning: `early_stopping_rounds` in `fit` method is deprecated for better compatibility with scikit-learn, use `early_stopping_rounds` in constructor or`set_params` instead.\n",
      "  warnings.warn(\n",
      "\n"
     ]
    },
    {
     "name": "stdout",
     "output_type": "stream",
     "text": [
      "[0]\tvalidation_0-auc:0.93523\tvalidation_1-auc:0.83502                                                                  \n",
      "[1]\tvalidation_0-auc:0.94252\tvalidation_1-auc:0.85614                                                                  \n",
      "[2]\tvalidation_0-auc:0.96508\tvalidation_1-auc:0.84224                                                                  \n",
      "[3]\tvalidation_0-auc:0.97334\tvalidation_1-auc:0.84378                                                                  \n",
      "SCORE:                                                                                                                 \n",
      "0.8561443932411675                                                                                                     \n",
      "Current max depth selected by algorithm:                                                                               \n",
      "14                                                                                                                     \n",
      " 11%|█████                                         | 11/100 [00:08<01:00,  1.47trial/s, best loss: 0.14278033794162814]"
     ]
    },
    {
     "name": "stderr",
     "output_type": "stream",
     "text": [
      "C:\\Users\\Shay\\AppData\\Roaming\\Python\\Python39\\site-packages\\xgboost\\sklearn.py:861: UserWarning: `eval_metric` in `fit` method is deprecated for better compatibility with scikit-learn, use `eval_metric` in constructor or`set_params` instead.\n",
      "  warnings.warn(\n",
      "\n",
      "C:\\Users\\Shay\\AppData\\Roaming\\Python\\Python39\\site-packages\\xgboost\\sklearn.py:861: UserWarning: `early_stopping_rounds` in `fit` method is deprecated for better compatibility with scikit-learn, use `early_stopping_rounds` in constructor or`set_params` instead.\n",
      "  warnings.warn(\n",
      "\n"
     ]
    },
    {
     "name": "stdout",
     "output_type": "stream",
     "text": [
      "[0]\tvalidation_0-auc:0.93523\tvalidation_1-auc:0.83502                                                                  \n",
      "[1]\tvalidation_0-auc:0.94252\tvalidation_1-auc:0.85614                                                                  \n",
      "[2]\tvalidation_0-auc:0.96508\tvalidation_1-auc:0.84224                                                                  \n",
      "[3]\tvalidation_0-auc:0.97334\tvalidation_1-auc:0.84378                                                                  \n",
      "SCORE:                                                                                                                 \n",
      "0.8561443932411675                                                                                                     \n",
      "Current max depth selected by algorithm:                                                                               \n",
      "8                                                                                                                      \n",
      " 12%|█████▌                                        | 12/100 [00:09<00:58,  1.49trial/s, best loss: 0.14278033794162814]"
     ]
    },
    {
     "name": "stderr",
     "output_type": "stream",
     "text": [
      "C:\\Users\\Shay\\AppData\\Roaming\\Python\\Python39\\site-packages\\xgboost\\sklearn.py:861: UserWarning: `eval_metric` in `fit` method is deprecated for better compatibility with scikit-learn, use `eval_metric` in constructor or`set_params` instead.\n",
      "  warnings.warn(\n",
      "\n",
      "C:\\Users\\Shay\\AppData\\Roaming\\Python\\Python39\\site-packages\\xgboost\\sklearn.py:861: UserWarning: `early_stopping_rounds` in `fit` method is deprecated for better compatibility with scikit-learn, use `early_stopping_rounds` in constructor or`set_params` instead.\n",
      "  warnings.warn(\n",
      "\n"
     ]
    },
    {
     "name": "stdout",
     "output_type": "stream",
     "text": [
      "[0]\tvalidation_0-auc:0.92876\tvalidation_1-auc:0.84178                                                                  \n",
      "[1]\tvalidation_0-auc:0.93884\tvalidation_1-auc:0.85361                                                                  \n",
      "[2]\tvalidation_0-auc:0.95729\tvalidation_1-auc:0.83909                                                                  \n",
      "[3]\tvalidation_0-auc:0.96841\tvalidation_1-auc:0.84316                                                                  \n",
      "[4]\tvalidation_0-auc:0.97539\tvalidation_1-auc:0.82903                                                                  \n",
      "SCORE:                                                                                                                 \n",
      "0.853609831029186                                                                                                      \n",
      "Current max depth selected by algorithm:                                                                               \n",
      "14                                                                                                                     \n",
      " 13%|█████▉                                        | 13/100 [00:10<00:55,  1.57trial/s, best loss: 0.14278033794162814]"
     ]
    },
    {
     "name": "stderr",
     "output_type": "stream",
     "text": [
      "C:\\Users\\Shay\\AppData\\Roaming\\Python\\Python39\\site-packages\\xgboost\\sklearn.py:861: UserWarning: `eval_metric` in `fit` method is deprecated for better compatibility with scikit-learn, use `eval_metric` in constructor or`set_params` instead.\n",
      "  warnings.warn(\n",
      "\n",
      "C:\\Users\\Shay\\AppData\\Roaming\\Python\\Python39\\site-packages\\xgboost\\sklearn.py:861: UserWarning: `early_stopping_rounds` in `fit` method is deprecated for better compatibility with scikit-learn, use `early_stopping_rounds` in constructor or`set_params` instead.\n",
      "  warnings.warn(\n",
      "\n"
     ]
    },
    {
     "name": "stdout",
     "output_type": "stream",
     "text": [
      "[0]\tvalidation_0-auc:0.93523\tvalidation_1-auc:0.83502                                                                  \n",
      "[1]\tvalidation_0-auc:0.94252\tvalidation_1-auc:0.85614                                                                  \n",
      "[2]\tvalidation_0-auc:0.96508\tvalidation_1-auc:0.84224                                                                  \n",
      "[3]\tvalidation_0-auc:0.97334\tvalidation_1-auc:0.84378                                                                  \n",
      "[4]\tvalidation_0-auc:0.97927\tvalidation_1-auc:0.83057                                                                  \n",
      "SCORE:                                                                                                                 \n",
      "0.8561443932411675                                                                                                     \n",
      "Current max depth selected by algorithm:                                                                               \n",
      "19                                                                                                                     \n",
      " 14%|██████▍                                       | 14/100 [00:10<00:52,  1.63trial/s, best loss: 0.14278033794162814]"
     ]
    },
    {
     "name": "stderr",
     "output_type": "stream",
     "text": [
      "C:\\Users\\Shay\\AppData\\Roaming\\Python\\Python39\\site-packages\\xgboost\\sklearn.py:861: UserWarning: `eval_metric` in `fit` method is deprecated for better compatibility with scikit-learn, use `eval_metric` in constructor or`set_params` instead.\n",
      "  warnings.warn(\n",
      "\n",
      "C:\\Users\\Shay\\AppData\\Roaming\\Python\\Python39\\site-packages\\xgboost\\sklearn.py:861: UserWarning: `early_stopping_rounds` in `fit` method is deprecated for better compatibility with scikit-learn, use `early_stopping_rounds` in constructor or`set_params` instead.\n",
      "  warnings.warn(\n",
      "\n"
     ]
    },
    {
     "name": "stdout",
     "output_type": "stream",
     "text": [
      "[0]\tvalidation_0-auc:0.93523\tvalidation_1-auc:0.83502                                                                  \n",
      "[1]\tvalidation_0-auc:0.94252\tvalidation_1-auc:0.85614                                                                  \n",
      "[2]\tvalidation_0-auc:0.96508\tvalidation_1-auc:0.84224                                                                  \n",
      "[3]\tvalidation_0-auc:0.97334\tvalidation_1-auc:0.84378                                                                  \n",
      "[4]\tvalidation_0-auc:0.97927\tvalidation_1-auc:0.83057                                                                  \n",
      "SCORE:                                                                                                                 \n",
      "0.8561443932411675                                                                                                     \n",
      "Current max depth selected by algorithm:                                                                               \n",
      "29                                                                                                                     \n",
      " 15%|██████▉                                       | 15/100 [00:11<00:51,  1.64trial/s, best loss: 0.14278033794162814]"
     ]
    },
    {
     "name": "stderr",
     "output_type": "stream",
     "text": [
      "C:\\Users\\Shay\\AppData\\Roaming\\Python\\Python39\\site-packages\\xgboost\\sklearn.py:861: UserWarning: `eval_metric` in `fit` method is deprecated for better compatibility with scikit-learn, use `eval_metric` in constructor or`set_params` instead.\n",
      "  warnings.warn(\n",
      "\n",
      "C:\\Users\\Shay\\AppData\\Roaming\\Python\\Python39\\site-packages\\xgboost\\sklearn.py:861: UserWarning: `early_stopping_rounds` in `fit` method is deprecated for better compatibility with scikit-learn, use `early_stopping_rounds` in constructor or`set_params` instead.\n",
      "  warnings.warn(\n",
      "\n"
     ]
    },
    {
     "name": "stdout",
     "output_type": "stream",
     "text": [
      "[0]\tvalidation_0-auc:0.93523\tvalidation_1-auc:0.83502                                                                  \n",
      "[1]\tvalidation_0-auc:0.94252\tvalidation_1-auc:0.85614                                                                  \n",
      "[2]\tvalidation_0-auc:0.96508\tvalidation_1-auc:0.84224                                                                  \n",
      "[3]\tvalidation_0-auc:0.97334\tvalidation_1-auc:0.84378                                                                  \n",
      "SCORE:                                                                                                                 \n",
      "0.8561443932411675                                                                                                     \n",
      "Current max depth selected by algorithm:                                                                               \n",
      "7                                                                                                                      \n",
      " 16%|███████▎                                      | 16/100 [00:11<00:50,  1.65trial/s, best loss: 0.14278033794162814]"
     ]
    },
    {
     "name": "stderr",
     "output_type": "stream",
     "text": [
      "C:\\Users\\Shay\\AppData\\Roaming\\Python\\Python39\\site-packages\\xgboost\\sklearn.py:861: UserWarning: `eval_metric` in `fit` method is deprecated for better compatibility with scikit-learn, use `eval_metric` in constructor or`set_params` instead.\n",
      "  warnings.warn(\n",
      "\n",
      "C:\\Users\\Shay\\AppData\\Roaming\\Python\\Python39\\site-packages\\xgboost\\sklearn.py:861: UserWarning: `early_stopping_rounds` in `fit` method is deprecated for better compatibility with scikit-learn, use `early_stopping_rounds` in constructor or`set_params` instead.\n",
      "  warnings.warn(\n",
      "\n"
     ]
    },
    {
     "name": "stdout",
     "output_type": "stream",
     "text": [
      "[0]\tvalidation_0-auc:0.92524\tvalidation_1-auc:0.84347                                                                  \n",
      "[1]\tvalidation_0-auc:0.93291\tvalidation_1-auc:0.85553                                                                  \n",
      "[2]\tvalidation_0-auc:0.95295\tvalidation_1-auc:0.84700                                                                  \n",
      "[3]\tvalidation_0-auc:0.96278\tvalidation_1-auc:0.84639                                                                  \n",
      "[4]\tvalidation_0-auc:0.96957\tvalidation_1-auc:0.83310                                                                  \n",
      "SCORE:                                                                                                                 \n",
      "0.8555299539170508                                                                                                     \n",
      "Current max depth selected by algorithm:                                                                               \n",
      "26                                                                                                                     \n",
      " 17%|███████▊                                      | 17/100 [00:12<00:53,  1.55trial/s, best loss: 0.14278033794162814]"
     ]
    },
    {
     "name": "stderr",
     "output_type": "stream",
     "text": [
      "C:\\Users\\Shay\\AppData\\Roaming\\Python\\Python39\\site-packages\\xgboost\\sklearn.py:861: UserWarning: `eval_metric` in `fit` method is deprecated for better compatibility with scikit-learn, use `eval_metric` in constructor or`set_params` instead.\n",
      "  warnings.warn(\n",
      "\n",
      "C:\\Users\\Shay\\AppData\\Roaming\\Python\\Python39\\site-packages\\xgboost\\sklearn.py:861: UserWarning: `early_stopping_rounds` in `fit` method is deprecated for better compatibility with scikit-learn, use `early_stopping_rounds` in constructor or`set_params` instead.\n",
      "  warnings.warn(\n",
      "\n"
     ]
    },
    {
     "name": "stdout",
     "output_type": "stream",
     "text": [
      "[0]\tvalidation_0-auc:0.93523\tvalidation_1-auc:0.83502                                                                  \n",
      "[1]\tvalidation_0-auc:0.94252\tvalidation_1-auc:0.85614                                                                  \n",
      "[2]\tvalidation_0-auc:0.96508\tvalidation_1-auc:0.84224                                                                  \n",
      "[3]\tvalidation_0-auc:0.97334\tvalidation_1-auc:0.84378                                                                  \n",
      "[4]\tvalidation_0-auc:0.97927\tvalidation_1-auc:0.83057                                                                  \n",
      "SCORE:                                                                                                                 \n",
      "0.8561443932411675                                                                                                     \n",
      "Current max depth selected by algorithm:                                                                               \n",
      "25                                                                                                                     \n",
      " 18%|████████▎                                     | 18/100 [00:13<00:53,  1.52trial/s, best loss: 0.14278033794162814]"
     ]
    },
    {
     "name": "stderr",
     "output_type": "stream",
     "text": [
      "C:\\Users\\Shay\\AppData\\Roaming\\Python\\Python39\\site-packages\\xgboost\\sklearn.py:861: UserWarning: `eval_metric` in `fit` method is deprecated for better compatibility with scikit-learn, use `eval_metric` in constructor or`set_params` instead.\n",
      "  warnings.warn(\n",
      "\n",
      "C:\\Users\\Shay\\AppData\\Roaming\\Python\\Python39\\site-packages\\xgboost\\sklearn.py:861: UserWarning: `early_stopping_rounds` in `fit` method is deprecated for better compatibility with scikit-learn, use `early_stopping_rounds` in constructor or`set_params` instead.\n",
      "  warnings.warn(\n",
      "\n"
     ]
    },
    {
     "name": "stdout",
     "output_type": "stream",
     "text": [
      "[0]\tvalidation_0-auc:0.93523\tvalidation_1-auc:0.83502                                                                  \n",
      "[1]\tvalidation_0-auc:0.94252\tvalidation_1-auc:0.85614                                                                  \n",
      "[2]\tvalidation_0-auc:0.96508\tvalidation_1-auc:0.84224                                                                  \n",
      "[3]\tvalidation_0-auc:0.97334\tvalidation_1-auc:0.84378                                                                  \n",
      "SCORE:                                                                                                                 \n",
      "0.8561443932411675                                                                                                     \n",
      "Current max depth selected by algorithm:                                                                               \n",
      "5                                                                                                                      \n",
      " 19%|████████▋                                     | 19/100 [00:13<00:52,  1.55trial/s, best loss: 0.14278033794162814]"
     ]
    },
    {
     "name": "stderr",
     "output_type": "stream",
     "text": [
      "C:\\Users\\Shay\\AppData\\Roaming\\Python\\Python39\\site-packages\\xgboost\\sklearn.py:861: UserWarning: `eval_metric` in `fit` method is deprecated for better compatibility with scikit-learn, use `eval_metric` in constructor or`set_params` instead.\n",
      "  warnings.warn(\n",
      "\n",
      "C:\\Users\\Shay\\AppData\\Roaming\\Python\\Python39\\site-packages\\xgboost\\sklearn.py:861: UserWarning: `early_stopping_rounds` in `fit` method is deprecated for better compatibility with scikit-learn, use `early_stopping_rounds` in constructor or`set_params` instead.\n",
      "  warnings.warn(\n",
      "\n"
     ]
    },
    {
     "name": "stdout",
     "output_type": "stream",
     "text": [
      "[0]\tvalidation_0-auc:0.91006\tvalidation_1-auc:0.83840                                                                  \n",
      "[1]\tvalidation_0-auc:0.91801\tvalidation_1-auc:0.83126                                                                  \n",
      "[2]\tvalidation_0-auc:0.93009\tvalidation_1-auc:0.83932                                                                  \n",
      "[3]\tvalidation_0-auc:0.93940\tvalidation_1-auc:0.83495                                                                  \n",
      "[4]\tvalidation_0-auc:0.94930\tvalidation_1-auc:0.82120                                                                  \n",
      "[5]\tvalidation_0-auc:0.95371\tvalidation_1-auc:0.81928                                                                  \n",
      "SCORE:                                                                                                                 \n",
      "0.8393241167434716                                                                                                     \n",
      "Current max depth selected by algorithm:                                                                               \n",
      "10                                                                                                                     \n",
      " 20%|█████████▏                                    | 20/100 [00:14<00:52,  1.54trial/s, best loss: 0.14278033794162814]"
     ]
    },
    {
     "name": "stderr",
     "output_type": "stream",
     "text": [
      "C:\\Users\\Shay\\AppData\\Roaming\\Python\\Python39\\site-packages\\xgboost\\sklearn.py:861: UserWarning: `eval_metric` in `fit` method is deprecated for better compatibility with scikit-learn, use `eval_metric` in constructor or`set_params` instead.\n",
      "  warnings.warn(\n",
      "\n",
      "C:\\Users\\Shay\\AppData\\Roaming\\Python\\Python39\\site-packages\\xgboost\\sklearn.py:861: UserWarning: `early_stopping_rounds` in `fit` method is deprecated for better compatibility with scikit-learn, use `early_stopping_rounds` in constructor or`set_params` instead.\n",
      "  warnings.warn(\n",
      "\n"
     ]
    },
    {
     "name": "stdout",
     "output_type": "stream",
     "text": [
      "[0]\tvalidation_0-auc:0.93445\tvalidation_1-auc:0.83671                                                                  \n",
      "[1]\tvalidation_0-auc:0.94227\tvalidation_1-auc:0.85722                                                                  \n",
      "[2]\tvalidation_0-auc:0.96475\tvalidation_1-auc:0.84240                                                                  \n",
      "[3]\tvalidation_0-auc:0.97344\tvalidation_1-auc:0.84347                                                                  \n",
      "[4]\tvalidation_0-auc:0.97879\tvalidation_1-auc:0.82995                                                                  \n",
      "SCORE:                                                                                                                 \n",
      "0.8572196620583719                                                                                                     \n",
      "Current max depth selected by algorithm:                                                                               \n",
      "10                                                                                                                     \n",
      " 21%|█████████▋                                    | 21/100 [00:15<00:51,  1.53trial/s, best loss: 0.14278033794162814]"
     ]
    },
    {
     "name": "stderr",
     "output_type": "stream",
     "text": [
      "C:\\Users\\Shay\\AppData\\Roaming\\Python\\Python39\\site-packages\\xgboost\\sklearn.py:861: UserWarning: `eval_metric` in `fit` method is deprecated for better compatibility with scikit-learn, use `eval_metric` in constructor or`set_params` instead.\n",
      "  warnings.warn(\n",
      "\n",
      "C:\\Users\\Shay\\AppData\\Roaming\\Python\\Python39\\site-packages\\xgboost\\sklearn.py:861: UserWarning: `early_stopping_rounds` in `fit` method is deprecated for better compatibility with scikit-learn, use `early_stopping_rounds` in constructor or`set_params` instead.\n",
      "  warnings.warn(\n",
      "\n"
     ]
    },
    {
     "name": "stdout",
     "output_type": "stream",
     "text": [
      "[0]\tvalidation_0-auc:0.93445\tvalidation_1-auc:0.83671                                                                  \n",
      "[1]\tvalidation_0-auc:0.94227\tvalidation_1-auc:0.85722                                                                  \n",
      "[2]\tvalidation_0-auc:0.96475\tvalidation_1-auc:0.84240                                                                  \n",
      "[3]\tvalidation_0-auc:0.97344\tvalidation_1-auc:0.84347                                                                  \n",
      "[4]\tvalidation_0-auc:0.97879\tvalidation_1-auc:0.82995                                                                  \n",
      "SCORE:                                                                                                                 \n",
      "0.8572196620583719                                                                                                     \n",
      "Current max depth selected by algorithm:                                                                               \n",
      "10                                                                                                                     \n",
      " 22%|██████████                                    | 22/100 [00:15<00:51,  1.50trial/s, best loss: 0.14278033794162814]"
     ]
    },
    {
     "name": "stderr",
     "output_type": "stream",
     "text": [
      "C:\\Users\\Shay\\AppData\\Roaming\\Python\\Python39\\site-packages\\xgboost\\sklearn.py:861: UserWarning: `eval_metric` in `fit` method is deprecated for better compatibility with scikit-learn, use `eval_metric` in constructor or`set_params` instead.\n",
      "  warnings.warn(\n",
      "\n",
      "C:\\Users\\Shay\\AppData\\Roaming\\Python\\Python39\\site-packages\\xgboost\\sklearn.py:861: UserWarning: `early_stopping_rounds` in `fit` method is deprecated for better compatibility with scikit-learn, use `early_stopping_rounds` in constructor or`set_params` instead.\n",
      "  warnings.warn(\n",
      "\n"
     ]
    },
    {
     "name": "stdout",
     "output_type": "stream",
     "text": [
      "[0]\tvalidation_0-auc:0.93445\tvalidation_1-auc:0.83671                                                                  \n",
      "[1]\tvalidation_0-auc:0.94227\tvalidation_1-auc:0.85722                                                                  \n",
      "[2]\tvalidation_0-auc:0.96475\tvalidation_1-auc:0.84240                                                                  \n",
      "[3]\tvalidation_0-auc:0.97344\tvalidation_1-auc:0.84347                                                                  \n",
      "SCORE:                                                                                                                 \n",
      "0.8572196620583719                                                                                                     \n",
      "Current max depth selected by algorithm:                                                                               \n",
      "16                                                                                                                     \n",
      " 23%|██████████▌                                   | 23/100 [00:16<00:51,  1.51trial/s, best loss: 0.14278033794162814]"
     ]
    },
    {
     "name": "stderr",
     "output_type": "stream",
     "text": [
      "C:\\Users\\Shay\\AppData\\Roaming\\Python\\Python39\\site-packages\\xgboost\\sklearn.py:861: UserWarning: `eval_metric` in `fit` method is deprecated for better compatibility with scikit-learn, use `eval_metric` in constructor or`set_params` instead.\n",
      "  warnings.warn(\n",
      "\n",
      "C:\\Users\\Shay\\AppData\\Roaming\\Python\\Python39\\site-packages\\xgboost\\sklearn.py:861: UserWarning: `early_stopping_rounds` in `fit` method is deprecated for better compatibility with scikit-learn, use `early_stopping_rounds` in constructor or`set_params` instead.\n",
      "  warnings.warn(\n",
      "\n"
     ]
    },
    {
     "name": "stdout",
     "output_type": "stream",
     "text": [
      "[0]\tvalidation_0-auc:0.93523\tvalidation_1-auc:0.83502                                                                  \n",
      "[1]\tvalidation_0-auc:0.94252\tvalidation_1-auc:0.85614                                                                  \n",
      "[2]\tvalidation_0-auc:0.96508\tvalidation_1-auc:0.84224                                                                  \n",
      "[3]\tvalidation_0-auc:0.97334\tvalidation_1-auc:0.84378                                                                  \n",
      "[4]\tvalidation_0-auc:0.97927\tvalidation_1-auc:0.83057                                                                  \n",
      "SCORE:                                                                                                                 \n",
      "0.8561443932411675                                                                                                     \n",
      "Current max depth selected by algorithm:                                                                               \n",
      "30                                                                                                                     \n",
      " 24%|███████████                                   | 24/100 [00:17<00:50,  1.50trial/s, best loss: 0.14278033794162814]"
     ]
    },
    {
     "name": "stderr",
     "output_type": "stream",
     "text": [
      "C:\\Users\\Shay\\AppData\\Roaming\\Python\\Python39\\site-packages\\xgboost\\sklearn.py:861: UserWarning: `eval_metric` in `fit` method is deprecated for better compatibility with scikit-learn, use `eval_metric` in constructor or`set_params` instead.\n",
      "  warnings.warn(\n",
      "\n",
      "C:\\Users\\Shay\\AppData\\Roaming\\Python\\Python39\\site-packages\\xgboost\\sklearn.py:861: UserWarning: `early_stopping_rounds` in `fit` method is deprecated for better compatibility with scikit-learn, use `early_stopping_rounds` in constructor or`set_params` instead.\n",
      "  warnings.warn(\n",
      "\n"
     ]
    },
    {
     "name": "stdout",
     "output_type": "stream",
     "text": [
      "[0]\tvalidation_0-auc:0.93523\tvalidation_1-auc:0.83502                                                                  \n",
      "[1]\tvalidation_0-auc:0.94252\tvalidation_1-auc:0.85614                                                                  \n",
      "[2]\tvalidation_0-auc:0.96508\tvalidation_1-auc:0.84224                                                                  \n",
      "[3]\tvalidation_0-auc:0.97334\tvalidation_1-auc:0.84378                                                                  \n",
      "[4]\tvalidation_0-auc:0.97927\tvalidation_1-auc:0.83057                                                                  \n",
      "SCORE:                                                                                                                 \n",
      "0.8561443932411675                                                                                                     \n",
      "Current max depth selected by algorithm:                                                                               \n",
      "18                                                                                                                     \n",
      " 25%|███████████▌                                  | 25/100 [00:17<00:50,  1.47trial/s, best loss: 0.14278033794162814]"
     ]
    },
    {
     "name": "stderr",
     "output_type": "stream",
     "text": [
      "C:\\Users\\Shay\\AppData\\Roaming\\Python\\Python39\\site-packages\\xgboost\\sklearn.py:861: UserWarning: `eval_metric` in `fit` method is deprecated for better compatibility with scikit-learn, use `eval_metric` in constructor or`set_params` instead.\n",
      "  warnings.warn(\n",
      "\n",
      "C:\\Users\\Shay\\AppData\\Roaming\\Python\\Python39\\site-packages\\xgboost\\sklearn.py:861: UserWarning: `early_stopping_rounds` in `fit` method is deprecated for better compatibility with scikit-learn, use `early_stopping_rounds` in constructor or`set_params` instead.\n",
      "  warnings.warn(\n",
      "\n"
     ]
    },
    {
     "name": "stdout",
     "output_type": "stream",
     "text": [
      "[0]\tvalidation_0-auc:0.93523\tvalidation_1-auc:0.83502                                                                  \n",
      "[1]\tvalidation_0-auc:0.94252\tvalidation_1-auc:0.85614                                                                  \n",
      "[2]\tvalidation_0-auc:0.96508\tvalidation_1-auc:0.84224                                                                  \n",
      "[3]\tvalidation_0-auc:0.97334\tvalidation_1-auc:0.84378                                                                  \n",
      "[4]\tvalidation_0-auc:0.97927\tvalidation_1-auc:0.83057                                                                  \n",
      "SCORE:                                                                                                                 \n",
      "0.8561443932411675                                                                                                     \n",
      "Current max depth selected by algorithm:                                                                               \n",
      "10                                                                                                                     \n",
      " 26%|███████████▉                                  | 26/100 [00:18<00:49,  1.50trial/s, best loss: 0.14278033794162814]"
     ]
    },
    {
     "name": "stderr",
     "output_type": "stream",
     "text": [
      "C:\\Users\\Shay\\AppData\\Roaming\\Python\\Python39\\site-packages\\xgboost\\sklearn.py:861: UserWarning: `eval_metric` in `fit` method is deprecated for better compatibility with scikit-learn, use `eval_metric` in constructor or`set_params` instead.\n",
      "  warnings.warn(\n",
      "\n",
      "C:\\Users\\Shay\\AppData\\Roaming\\Python\\Python39\\site-packages\\xgboost\\sklearn.py:861: UserWarning: `early_stopping_rounds` in `fit` method is deprecated for better compatibility with scikit-learn, use `early_stopping_rounds` in constructor or`set_params` instead.\n",
      "  warnings.warn(\n",
      "\n"
     ]
    },
    {
     "name": "stdout",
     "output_type": "stream",
     "text": [
      "[0]\tvalidation_0-auc:0.93445\tvalidation_1-auc:0.83671                                                                  \n",
      "[1]\tvalidation_0-auc:0.94227\tvalidation_1-auc:0.85722                                                                  \n",
      "[2]\tvalidation_0-auc:0.96475\tvalidation_1-auc:0.84240                                                                  \n",
      "[3]\tvalidation_0-auc:0.97344\tvalidation_1-auc:0.84347                                                                  \n",
      "SCORE:                                                                                                                 \n",
      "0.8572196620583719                                                                                                     \n",
      "Current max depth selected by algorithm:                                                                               \n",
      "22                                                                                                                     \n",
      " 27%|████████████▍                                 | 27/100 [00:19<00:48,  1.50trial/s, best loss: 0.14278033794162814]"
     ]
    },
    {
     "name": "stderr",
     "output_type": "stream",
     "text": [
      "C:\\Users\\Shay\\AppData\\Roaming\\Python\\Python39\\site-packages\\xgboost\\sklearn.py:861: UserWarning: `eval_metric` in `fit` method is deprecated for better compatibility with scikit-learn, use `eval_metric` in constructor or`set_params` instead.\n",
      "  warnings.warn(\n",
      "\n",
      "C:\\Users\\Shay\\AppData\\Roaming\\Python\\Python39\\site-packages\\xgboost\\sklearn.py:861: UserWarning: `early_stopping_rounds` in `fit` method is deprecated for better compatibility with scikit-learn, use `early_stopping_rounds` in constructor or`set_params` instead.\n",
      "  warnings.warn(\n",
      "\n"
     ]
    },
    {
     "name": "stdout",
     "output_type": "stream",
     "text": [
      "[0]\tvalidation_0-auc:0.93523\tvalidation_1-auc:0.83502                                                                  \n",
      "[1]\tvalidation_0-auc:0.94252\tvalidation_1-auc:0.85614                                                                  \n",
      "[2]\tvalidation_0-auc:0.96508\tvalidation_1-auc:0.84224                                                                  \n",
      "[3]\tvalidation_0-auc:0.97334\tvalidation_1-auc:0.84378                                                                  \n",
      "SCORE:                                                                                                                 \n",
      "0.8561443932411675                                                                                                     \n",
      "Current max depth selected by algorithm:                                                                               \n",
      "15                                                                                                                     \n",
      " 28%|████████████▉                                 | 28/100 [00:19<00:47,  1.52trial/s, best loss: 0.14278033794162814]"
     ]
    },
    {
     "name": "stderr",
     "output_type": "stream",
     "text": [
      "C:\\Users\\Shay\\AppData\\Roaming\\Python\\Python39\\site-packages\\xgboost\\sklearn.py:861: UserWarning: `eval_metric` in `fit` method is deprecated for better compatibility with scikit-learn, use `eval_metric` in constructor or`set_params` instead.\n",
      "  warnings.warn(\n",
      "\n",
      "C:\\Users\\Shay\\AppData\\Roaming\\Python\\Python39\\site-packages\\xgboost\\sklearn.py:861: UserWarning: `early_stopping_rounds` in `fit` method is deprecated for better compatibility with scikit-learn, use `early_stopping_rounds` in constructor or`set_params` instead.\n",
      "  warnings.warn(\n",
      "\n"
     ]
    },
    {
     "name": "stdout",
     "output_type": "stream",
     "text": [
      "[0]\tvalidation_0-auc:0.93523\tvalidation_1-auc:0.83502                                                                  \n",
      "[1]\tvalidation_0-auc:0.94252\tvalidation_1-auc:0.85614                                                                  \n",
      "[2]\tvalidation_0-auc:0.96508\tvalidation_1-auc:0.84224                                                                  \n",
      "[3]\tvalidation_0-auc:0.97334\tvalidation_1-auc:0.84378                                                                  \n",
      "SCORE:                                                                                                                 \n",
      "0.8561443932411675                                                                                                     \n",
      "Current max depth selected by algorithm:                                                                               \n",
      "9                                                                                                                      \n",
      " 29%|█████████████▎                                | 29/100 [00:20<00:46,  1.52trial/s, best loss: 0.14278033794162814]"
     ]
    },
    {
     "name": "stderr",
     "output_type": "stream",
     "text": [
      "C:\\Users\\Shay\\AppData\\Roaming\\Python\\Python39\\site-packages\\xgboost\\sklearn.py:861: UserWarning: `eval_metric` in `fit` method is deprecated for better compatibility with scikit-learn, use `eval_metric` in constructor or`set_params` instead.\n",
      "  warnings.warn(\n",
      "\n",
      "C:\\Users\\Shay\\AppData\\Roaming\\Python\\Python39\\site-packages\\xgboost\\sklearn.py:861: UserWarning: `early_stopping_rounds` in `fit` method is deprecated for better compatibility with scikit-learn, use `early_stopping_rounds` in constructor or`set_params` instead.\n",
      "  warnings.warn(\n",
      "\n"
     ]
    },
    {
     "name": "stdout",
     "output_type": "stream",
     "text": [
      "[0]\tvalidation_0-auc:0.93380\tvalidation_1-auc:0.83533                                                                  \n",
      "[1]\tvalidation_0-auc:0.94208\tvalidation_1-auc:0.85768                                                                  \n",
      "[2]\tvalidation_0-auc:0.96354\tvalidation_1-auc:0.84455                                                                  \n",
      "[3]\tvalidation_0-auc:0.97235\tvalidation_1-auc:0.84731                                                                  \n",
      "SCORE:                                                                                                                 \n",
      "0.8576804915514593                                                                                                     \n",
      "Current max depth selected by algorithm:                                                                               \n",
      "13                                                                                                                     \n",
      " 30%|██████████████                                 | 30/100 [00:21<00:45,  1.55trial/s, best loss: 0.1423195084485407]"
     ]
    },
    {
     "name": "stderr",
     "output_type": "stream",
     "text": [
      "C:\\Users\\Shay\\AppData\\Roaming\\Python\\Python39\\site-packages\\xgboost\\sklearn.py:861: UserWarning: `eval_metric` in `fit` method is deprecated for better compatibility with scikit-learn, use `eval_metric` in constructor or`set_params` instead.\n",
      "  warnings.warn(\n",
      "\n",
      "C:\\Users\\Shay\\AppData\\Roaming\\Python\\Python39\\site-packages\\xgboost\\sklearn.py:861: UserWarning: `early_stopping_rounds` in `fit` method is deprecated for better compatibility with scikit-learn, use `early_stopping_rounds` in constructor or`set_params` instead.\n",
      "  warnings.warn(\n",
      "\n"
     ]
    },
    {
     "name": "stdout",
     "output_type": "stream",
     "text": [
      "[0]\tvalidation_0-auc:0.93523\tvalidation_1-auc:0.83502                                                                  \n",
      "[1]\tvalidation_0-auc:0.94252\tvalidation_1-auc:0.85614                                                                  \n",
      "[2]\tvalidation_0-auc:0.96508\tvalidation_1-auc:0.84224                                                                  \n",
      "[3]\tvalidation_0-auc:0.97334\tvalidation_1-auc:0.84378                                                                  \n",
      "SCORE:                                                                                                                 \n",
      "0.8561443932411675                                                                                                     \n",
      "Current max depth selected by algorithm:                                                                               \n",
      "9                                                                                                                      \n",
      " 31%|██████████████▌                                | 31/100 [00:21<00:43,  1.57trial/s, best loss: 0.1423195084485407]"
     ]
    },
    {
     "name": "stderr",
     "output_type": "stream",
     "text": [
      "C:\\Users\\Shay\\AppData\\Roaming\\Python\\Python39\\site-packages\\xgboost\\sklearn.py:861: UserWarning: `eval_metric` in `fit` method is deprecated for better compatibility with scikit-learn, use `eval_metric` in constructor or`set_params` instead.\n",
      "  warnings.warn(\n",
      "\n",
      "C:\\Users\\Shay\\AppData\\Roaming\\Python\\Python39\\site-packages\\xgboost\\sklearn.py:861: UserWarning: `early_stopping_rounds` in `fit` method is deprecated for better compatibility with scikit-learn, use `early_stopping_rounds` in constructor or`set_params` instead.\n",
      "  warnings.warn(\n",
      "\n"
     ]
    },
    {
     "name": "stdout",
     "output_type": "stream",
     "text": [
      "[0]\tvalidation_0-auc:0.93380\tvalidation_1-auc:0.83533                                                                  \n",
      "[1]\tvalidation_0-auc:0.94208\tvalidation_1-auc:0.85768                                                                  \n",
      "[2]\tvalidation_0-auc:0.96354\tvalidation_1-auc:0.84455                                                                  \n",
      "[3]\tvalidation_0-auc:0.97235\tvalidation_1-auc:0.84731                                                                  \n",
      "SCORE:                                                                                                                 \n",
      "0.8576804915514593                                                                                                     \n",
      "Current max depth selected by algorithm:                                                                               \n",
      "9                                                                                                                      \n",
      " 32%|███████████████                                | 32/100 [00:22<00:42,  1.59trial/s, best loss: 0.1423195084485407]"
     ]
    },
    {
     "name": "stderr",
     "output_type": "stream",
     "text": [
      "C:\\Users\\Shay\\AppData\\Roaming\\Python\\Python39\\site-packages\\xgboost\\sklearn.py:861: UserWarning: `eval_metric` in `fit` method is deprecated for better compatibility with scikit-learn, use `eval_metric` in constructor or`set_params` instead.\n",
      "  warnings.warn(\n",
      "\n",
      "C:\\Users\\Shay\\AppData\\Roaming\\Python\\Python39\\site-packages\\xgboost\\sklearn.py:861: UserWarning: `early_stopping_rounds` in `fit` method is deprecated for better compatibility with scikit-learn, use `early_stopping_rounds` in constructor or`set_params` instead.\n",
      "  warnings.warn(\n",
      "\n"
     ]
    },
    {
     "name": "stdout",
     "output_type": "stream",
     "text": [
      "[0]\tvalidation_0-auc:0.93380\tvalidation_1-auc:0.83533                                                                  \n",
      "[1]\tvalidation_0-auc:0.94208\tvalidation_1-auc:0.85768                                                                  \n",
      "[2]\tvalidation_0-auc:0.96354\tvalidation_1-auc:0.84455                                                                  \n",
      "[3]\tvalidation_0-auc:0.97235\tvalidation_1-auc:0.84731                                                                  \n",
      "[4]\tvalidation_0-auc:0.97688\tvalidation_1-auc:0.83510                                                                  \n",
      "SCORE:                                                                                                                 \n",
      "0.8576804915514593                                                                                                     \n",
      "Current max depth selected by algorithm:                                                                               \n",
      "9                                                                                                                      \n",
      " 33%|███████████████▌                               | 33/100 [00:23<00:43,  1.55trial/s, best loss: 0.1423195084485407]"
     ]
    },
    {
     "name": "stderr",
     "output_type": "stream",
     "text": [
      "C:\\Users\\Shay\\AppData\\Roaming\\Python\\Python39\\site-packages\\xgboost\\sklearn.py:861: UserWarning: `eval_metric` in `fit` method is deprecated for better compatibility with scikit-learn, use `eval_metric` in constructor or`set_params` instead.\n",
      "  warnings.warn(\n",
      "\n",
      "C:\\Users\\Shay\\AppData\\Roaming\\Python\\Python39\\site-packages\\xgboost\\sklearn.py:861: UserWarning: `early_stopping_rounds` in `fit` method is deprecated for better compatibility with scikit-learn, use `early_stopping_rounds` in constructor or`set_params` instead.\n",
      "  warnings.warn(\n",
      "\n"
     ]
    },
    {
     "name": "stdout",
     "output_type": "stream",
     "text": [
      "[0]\tvalidation_0-auc:0.93380\tvalidation_1-auc:0.83533                                                                  \n",
      "[1]\tvalidation_0-auc:0.94208\tvalidation_1-auc:0.85768                                                                  \n",
      "[2]\tvalidation_0-auc:0.96354\tvalidation_1-auc:0.84455                                                                  \n",
      "[3]\tvalidation_0-auc:0.97235\tvalidation_1-auc:0.84731                                                                  \n",
      "SCORE:                                                                                                                 \n",
      "0.8576804915514593                                                                                                     \n",
      "Current max depth selected by algorithm:                                                                               \n",
      "9                                                                                                                      \n",
      " 34%|███████████████▉                               | 34/100 [00:23<00:41,  1.58trial/s, best loss: 0.1423195084485407]"
     ]
    },
    {
     "name": "stderr",
     "output_type": "stream",
     "text": [
      "C:\\Users\\Shay\\AppData\\Roaming\\Python\\Python39\\site-packages\\xgboost\\sklearn.py:861: UserWarning: `eval_metric` in `fit` method is deprecated for better compatibility with scikit-learn, use `eval_metric` in constructor or`set_params` instead.\n",
      "  warnings.warn(\n",
      "\n",
      "C:\\Users\\Shay\\AppData\\Roaming\\Python\\Python39\\site-packages\\xgboost\\sklearn.py:861: UserWarning: `early_stopping_rounds` in `fit` method is deprecated for better compatibility with scikit-learn, use `early_stopping_rounds` in constructor or`set_params` instead.\n",
      "  warnings.warn(\n",
      "\n"
     ]
    },
    {
     "name": "stdout",
     "output_type": "stream",
     "text": [
      "[0]\tvalidation_0-auc:0.93380\tvalidation_1-auc:0.83533                                                                  \n",
      "[1]\tvalidation_0-auc:0.94208\tvalidation_1-auc:0.85768                                                                  \n",
      "[2]\tvalidation_0-auc:0.96354\tvalidation_1-auc:0.84455                                                                  \n",
      "[3]\tvalidation_0-auc:0.97235\tvalidation_1-auc:0.84731                                                                  \n",
      "[4]\tvalidation_0-auc:0.97688\tvalidation_1-auc:0.83510                                                                  \n",
      "SCORE:                                                                                                                 \n",
      "0.8576804915514593                                                                                                     \n",
      "Current max depth selected by algorithm:                                                                               \n",
      "17                                                                                                                     \n",
      " 35%|████████████████▍                              | 35/100 [00:24<00:41,  1.57trial/s, best loss: 0.1423195084485407]"
     ]
    },
    {
     "name": "stderr",
     "output_type": "stream",
     "text": [
      "C:\\Users\\Shay\\AppData\\Roaming\\Python\\Python39\\site-packages\\xgboost\\sklearn.py:861: UserWarning: `eval_metric` in `fit` method is deprecated for better compatibility with scikit-learn, use `eval_metric` in constructor or`set_params` instead.\n",
      "  warnings.warn(\n",
      "\n",
      "C:\\Users\\Shay\\AppData\\Roaming\\Python\\Python39\\site-packages\\xgboost\\sklearn.py:861: UserWarning: `early_stopping_rounds` in `fit` method is deprecated for better compatibility with scikit-learn, use `early_stopping_rounds` in constructor or`set_params` instead.\n",
      "  warnings.warn(\n",
      "\n"
     ]
    },
    {
     "name": "stdout",
     "output_type": "stream",
     "text": [
      "[0]\tvalidation_0-auc:0.93523\tvalidation_1-auc:0.83502                                                                  \n",
      "[1]\tvalidation_0-auc:0.94252\tvalidation_1-auc:0.85614                                                                  \n",
      "[2]\tvalidation_0-auc:0.96508\tvalidation_1-auc:0.84224                                                                  \n",
      "[3]\tvalidation_0-auc:0.97334\tvalidation_1-auc:0.84378                                                                  \n",
      "SCORE:                                                                                                                 \n",
      "0.8561443932411675                                                                                                     \n",
      "Current max depth selected by algorithm:                                                                               \n",
      "21                                                                                                                     \n",
      " 36%|████████████████▉                              | 36/100 [00:24<00:40,  1.58trial/s, best loss: 0.1423195084485407]"
     ]
    },
    {
     "name": "stderr",
     "output_type": "stream",
     "text": [
      "C:\\Users\\Shay\\AppData\\Roaming\\Python\\Python39\\site-packages\\xgboost\\sklearn.py:861: UserWarning: `eval_metric` in `fit` method is deprecated for better compatibility with scikit-learn, use `eval_metric` in constructor or`set_params` instead.\n",
      "  warnings.warn(\n",
      "\n",
      "C:\\Users\\Shay\\AppData\\Roaming\\Python\\Python39\\site-packages\\xgboost\\sklearn.py:861: UserWarning: `early_stopping_rounds` in `fit` method is deprecated for better compatibility with scikit-learn, use `early_stopping_rounds` in constructor or`set_params` instead.\n",
      "  warnings.warn(\n",
      "\n"
     ]
    },
    {
     "name": "stdout",
     "output_type": "stream",
     "text": [
      "[0]\tvalidation_0-auc:0.93523\tvalidation_1-auc:0.83502                                                                  \n",
      "[1]\tvalidation_0-auc:0.94252\tvalidation_1-auc:0.85614                                                                  \n",
      "[2]\tvalidation_0-auc:0.96508\tvalidation_1-auc:0.84224                                                                  \n",
      "[3]\tvalidation_0-auc:0.97334\tvalidation_1-auc:0.84378                                                                  \n",
      "SCORE:                                                                                                                 \n",
      "0.8561443932411675                                                                                                     \n",
      "Current max depth selected by algorithm:                                                                               \n",
      "11                                                                                                                     \n",
      " 37%|█████████████████▍                             | 37/100 [00:25<00:41,  1.51trial/s, best loss: 0.1423195084485407]"
     ]
    },
    {
     "name": "stderr",
     "output_type": "stream",
     "text": [
      "C:\\Users\\Shay\\AppData\\Roaming\\Python\\Python39\\site-packages\\xgboost\\sklearn.py:861: UserWarning: `eval_metric` in `fit` method is deprecated for better compatibility with scikit-learn, use `eval_metric` in constructor or`set_params` instead.\n",
      "  warnings.warn(\n",
      "\n",
      "C:\\Users\\Shay\\AppData\\Roaming\\Python\\Python39\\site-packages\\xgboost\\sklearn.py:861: UserWarning: `early_stopping_rounds` in `fit` method is deprecated for better compatibility with scikit-learn, use `early_stopping_rounds` in constructor or`set_params` instead.\n",
      "  warnings.warn(\n",
      "\n"
     ]
    },
    {
     "name": "stdout",
     "output_type": "stream",
     "text": [
      "[0]\tvalidation_0-auc:0.93523\tvalidation_1-auc:0.83502                                                                  \n",
      "[1]\tvalidation_0-auc:0.94252\tvalidation_1-auc:0.85614                                                                  \n",
      "[2]\tvalidation_0-auc:0.96508\tvalidation_1-auc:0.84224                                                                  \n",
      "[3]\tvalidation_0-auc:0.97334\tvalidation_1-auc:0.84378                                                                  \n",
      "SCORE:                                                                                                                 \n",
      "0.8561443932411675                                                                                                     \n",
      "Current max depth selected by algorithm:                                                                               \n",
      "28                                                                                                                     \n",
      " 38%|█████████████████▊                             | 38/100 [00:26<00:40,  1.55trial/s, best loss: 0.1423195084485407]"
     ]
    },
    {
     "name": "stderr",
     "output_type": "stream",
     "text": [
      "C:\\Users\\Shay\\AppData\\Roaming\\Python\\Python39\\site-packages\\xgboost\\sklearn.py:861: UserWarning: `eval_metric` in `fit` method is deprecated for better compatibility with scikit-learn, use `eval_metric` in constructor or`set_params` instead.\n",
      "  warnings.warn(\n",
      "\n",
      "C:\\Users\\Shay\\AppData\\Roaming\\Python\\Python39\\site-packages\\xgboost\\sklearn.py:861: UserWarning: `early_stopping_rounds` in `fit` method is deprecated for better compatibility with scikit-learn, use `early_stopping_rounds` in constructor or`set_params` instead.\n",
      "  warnings.warn(\n",
      "\n"
     ]
    },
    {
     "name": "stdout",
     "output_type": "stream",
     "text": [
      "[0]\tvalidation_0-auc:0.93523\tvalidation_1-auc:0.83502                                                                  \n",
      "[1]\tvalidation_0-auc:0.94252\tvalidation_1-auc:0.85614                                                                  \n",
      "[2]\tvalidation_0-auc:0.96508\tvalidation_1-auc:0.84224                                                                  \n",
      "[3]\tvalidation_0-auc:0.97334\tvalidation_1-auc:0.84378                                                                  \n",
      "[4]\tvalidation_0-auc:0.97927\tvalidation_1-auc:0.83057                                                                  \n",
      "SCORE:                                                                                                                 \n",
      "0.8561443932411675                                                                                                     \n",
      "Current max depth selected by algorithm:                                                                               \n",
      "27                                                                                                                     \n",
      " 39%|██████████████████▎                            | 39/100 [00:26<00:39,  1.53trial/s, best loss: 0.1423195084485407]"
     ]
    },
    {
     "name": "stderr",
     "output_type": "stream",
     "text": [
      "C:\\Users\\Shay\\AppData\\Roaming\\Python\\Python39\\site-packages\\xgboost\\sklearn.py:861: UserWarning: `eval_metric` in `fit` method is deprecated for better compatibility with scikit-learn, use `eval_metric` in constructor or`set_params` instead.\n",
      "  warnings.warn(\n",
      "\n",
      "C:\\Users\\Shay\\AppData\\Roaming\\Python\\Python39\\site-packages\\xgboost\\sklearn.py:861: UserWarning: `early_stopping_rounds` in `fit` method is deprecated for better compatibility with scikit-learn, use `early_stopping_rounds` in constructor or`set_params` instead.\n",
      "  warnings.warn(\n",
      "\n"
     ]
    },
    {
     "name": "stdout",
     "output_type": "stream",
     "text": [
      "[0]\tvalidation_0-auc:0.93523\tvalidation_1-auc:0.83502                                                                  \n",
      "[1]\tvalidation_0-auc:0.94252\tvalidation_1-auc:0.85614                                                                  \n",
      "[2]\tvalidation_0-auc:0.96508\tvalidation_1-auc:0.84224                                                                  \n",
      "[3]\tvalidation_0-auc:0.97334\tvalidation_1-auc:0.84378                                                                  \n",
      "SCORE:                                                                                                                 \n",
      "0.8561443932411675                                                                                                     \n",
      "Current max depth selected by algorithm:                                                                               \n",
      "24                                                                                                                     \n",
      " 40%|██████████████████▊                            | 40/100 [00:27<00:38,  1.55trial/s, best loss: 0.1423195084485407]"
     ]
    },
    {
     "name": "stderr",
     "output_type": "stream",
     "text": [
      "C:\\Users\\Shay\\AppData\\Roaming\\Python\\Python39\\site-packages\\xgboost\\sklearn.py:861: UserWarning: `eval_metric` in `fit` method is deprecated for better compatibility with scikit-learn, use `eval_metric` in constructor or`set_params` instead.\n",
      "  warnings.warn(\n",
      "\n",
      "C:\\Users\\Shay\\AppData\\Roaming\\Python\\Python39\\site-packages\\xgboost\\sklearn.py:861: UserWarning: `early_stopping_rounds` in `fit` method is deprecated for better compatibility with scikit-learn, use `early_stopping_rounds` in constructor or`set_params` instead.\n",
      "  warnings.warn(\n",
      "\n"
     ]
    },
    {
     "name": "stdout",
     "output_type": "stream",
     "text": [
      "[0]\tvalidation_0-auc:0.93523\tvalidation_1-auc:0.83502                                                                  \n",
      "[1]\tvalidation_0-auc:0.94252\tvalidation_1-auc:0.85614                                                                  \n",
      "[2]\tvalidation_0-auc:0.96508\tvalidation_1-auc:0.84224                                                                  \n",
      "[3]\tvalidation_0-auc:0.97334\tvalidation_1-auc:0.84378                                                                  \n",
      "SCORE:                                                                                                                 \n",
      "0.8561443932411675                                                                                                     \n",
      "Current max depth selected by algorithm:                                                                               \n",
      "6                                                                                                                      \n",
      " 41%|███████████████████▎                           | 41/100 [00:28<00:38,  1.53trial/s, best loss: 0.1423195084485407]"
     ]
    },
    {
     "name": "stderr",
     "output_type": "stream",
     "text": [
      "C:\\Users\\Shay\\AppData\\Roaming\\Python\\Python39\\site-packages\\xgboost\\sklearn.py:861: UserWarning: `eval_metric` in `fit` method is deprecated for better compatibility with scikit-learn, use `eval_metric` in constructor or`set_params` instead.\n",
      "  warnings.warn(\n",
      "\n",
      "C:\\Users\\Shay\\AppData\\Roaming\\Python\\Python39\\site-packages\\xgboost\\sklearn.py:861: UserWarning: `early_stopping_rounds` in `fit` method is deprecated for better compatibility with scikit-learn, use `early_stopping_rounds` in constructor or`set_params` instead.\n",
      "  warnings.warn(\n",
      "\n"
     ]
    },
    {
     "name": "stdout",
     "output_type": "stream",
     "text": [
      "[0]\tvalidation_0-auc:0.92018\tvalidation_1-auc:0.83810                                                                  \n",
      "[1]\tvalidation_0-auc:0.92668\tvalidation_1-auc:0.85061                                                                  \n",
      "[2]\tvalidation_0-auc:0.94587\tvalidation_1-auc:0.83902                                                                  \n",
      "[3]\tvalidation_0-auc:0.95769\tvalidation_1-auc:0.83909                                                                  \n",
      "[4]\tvalidation_0-auc:0.96352\tvalidation_1-auc:0.83172                                                                  \n",
      "SCORE:                                                                                                                 \n",
      "0.8506144393241168                                                                                                     \n",
      "Current max depth selected by algorithm:                                                                               \n",
      "12                                                                                                                     \n",
      " 42%|███████████████████▋                           | 42/100 [00:28<00:38,  1.52trial/s, best loss: 0.1423195084485407]"
     ]
    },
    {
     "name": "stderr",
     "output_type": "stream",
     "text": [
      "C:\\Users\\Shay\\AppData\\Roaming\\Python\\Python39\\site-packages\\xgboost\\sklearn.py:861: UserWarning: `eval_metric` in `fit` method is deprecated for better compatibility with scikit-learn, use `eval_metric` in constructor or`set_params` instead.\n",
      "  warnings.warn(\n",
      "\n",
      "C:\\Users\\Shay\\AppData\\Roaming\\Python\\Python39\\site-packages\\xgboost\\sklearn.py:861: UserWarning: `early_stopping_rounds` in `fit` method is deprecated for better compatibility with scikit-learn, use `early_stopping_rounds` in constructor or`set_params` instead.\n",
      "  warnings.warn(\n",
      "\n"
     ]
    },
    {
     "name": "stdout",
     "output_type": "stream",
     "text": [
      "[0]\tvalidation_0-auc:0.93523\tvalidation_1-auc:0.83502                                                                  \n",
      "[1]\tvalidation_0-auc:0.94252\tvalidation_1-auc:0.85614                                                                  \n",
      "[2]\tvalidation_0-auc:0.96508\tvalidation_1-auc:0.84224                                                                  \n",
      "[3]\tvalidation_0-auc:0.97334\tvalidation_1-auc:0.84378                                                                  \n",
      "SCORE:                                                                                                                 \n",
      "0.8561443932411675                                                                                                     \n",
      "Current max depth selected by algorithm:                                                                               \n",
      "9                                                                                                                      \n",
      " 43%|████████████████████▏                          | 43/100 [00:29<00:37,  1.53trial/s, best loss: 0.1423195084485407]"
     ]
    },
    {
     "name": "stderr",
     "output_type": "stream",
     "text": [
      "C:\\Users\\Shay\\AppData\\Roaming\\Python\\Python39\\site-packages\\xgboost\\sklearn.py:861: UserWarning: `eval_metric` in `fit` method is deprecated for better compatibility with scikit-learn, use `eval_metric` in constructor or`set_params` instead.\n",
      "  warnings.warn(\n",
      "\n",
      "C:\\Users\\Shay\\AppData\\Roaming\\Python\\Python39\\site-packages\\xgboost\\sklearn.py:861: UserWarning: `early_stopping_rounds` in `fit` method is deprecated for better compatibility with scikit-learn, use `early_stopping_rounds` in constructor or`set_params` instead.\n",
      "  warnings.warn(\n",
      "\n"
     ]
    },
    {
     "name": "stdout",
     "output_type": "stream",
     "text": [
      "[0]\tvalidation_0-auc:0.93380\tvalidation_1-auc:0.83533                                                                  \n",
      "[1]\tvalidation_0-auc:0.94208\tvalidation_1-auc:0.85768                                                                  \n",
      "[2]\tvalidation_0-auc:0.96354\tvalidation_1-auc:0.84455                                                                  \n",
      "[3]\tvalidation_0-auc:0.97235\tvalidation_1-auc:0.84731                                                                  \n",
      "SCORE:                                                                                                                 \n",
      "0.8576804915514593                                                                                                     \n",
      "Current max depth selected by algorithm:                                                                               \n",
      "23                                                                                                                     \n",
      " 44%|████████████████████▋                          | 44/100 [00:30<00:35,  1.56trial/s, best loss: 0.1423195084485407]"
     ]
    },
    {
     "name": "stderr",
     "output_type": "stream",
     "text": [
      "C:\\Users\\Shay\\AppData\\Roaming\\Python\\Python39\\site-packages\\xgboost\\sklearn.py:861: UserWarning: `eval_metric` in `fit` method is deprecated for better compatibility with scikit-learn, use `eval_metric` in constructor or`set_params` instead.\n",
      "  warnings.warn(\n",
      "\n",
      "C:\\Users\\Shay\\AppData\\Roaming\\Python\\Python39\\site-packages\\xgboost\\sklearn.py:861: UserWarning: `early_stopping_rounds` in `fit` method is deprecated for better compatibility with scikit-learn, use `early_stopping_rounds` in constructor or`set_params` instead.\n",
      "  warnings.warn(\n",
      "\n"
     ]
    },
    {
     "name": "stdout",
     "output_type": "stream",
     "text": [
      "[0]\tvalidation_0-auc:0.93523\tvalidation_1-auc:0.83502                                                                  \n",
      "[1]\tvalidation_0-auc:0.94252\tvalidation_1-auc:0.85614                                                                  \n",
      "[2]\tvalidation_0-auc:0.96508\tvalidation_1-auc:0.84224                                                                  \n",
      "[3]\tvalidation_0-auc:0.97334\tvalidation_1-auc:0.84378                                                                  \n",
      "[4]\tvalidation_0-auc:0.97927\tvalidation_1-auc:0.83057                                                                  \n",
      "SCORE:                                                                                                                 \n",
      "0.8561443932411675                                                                                                     \n",
      "Current max depth selected by algorithm:                                                                               \n",
      "9                                                                                                                      \n",
      " 45%|█████████████████████▏                         | 45/100 [00:30<00:34,  1.59trial/s, best loss: 0.1423195084485407]"
     ]
    },
    {
     "name": "stderr",
     "output_type": "stream",
     "text": [
      "C:\\Users\\Shay\\AppData\\Roaming\\Python\\Python39\\site-packages\\xgboost\\sklearn.py:861: UserWarning: `eval_metric` in `fit` method is deprecated for better compatibility with scikit-learn, use `eval_metric` in constructor or`set_params` instead.\n",
      "  warnings.warn(\n",
      "\n",
      "C:\\Users\\Shay\\AppData\\Roaming\\Python\\Python39\\site-packages\\xgboost\\sklearn.py:861: UserWarning: `early_stopping_rounds` in `fit` method is deprecated for better compatibility with scikit-learn, use `early_stopping_rounds` in constructor or`set_params` instead.\n",
      "  warnings.warn(\n",
      "\n"
     ]
    },
    {
     "name": "stdout",
     "output_type": "stream",
     "text": [
      "[0]\tvalidation_0-auc:0.93380\tvalidation_1-auc:0.83533                                                                  \n",
      "[1]\tvalidation_0-auc:0.94208\tvalidation_1-auc:0.85768                                                                  \n",
      "[2]\tvalidation_0-auc:0.96354\tvalidation_1-auc:0.84455                                                                  \n",
      "[3]\tvalidation_0-auc:0.97235\tvalidation_1-auc:0.84731                                                                  \n",
      "[4]\tvalidation_0-auc:0.97688\tvalidation_1-auc:0.83510                                                                  \n",
      "SCORE:                                                                                                                 \n",
      "0.8576804915514593                                                                                                     \n",
      "Current max depth selected by algorithm:                                                                               \n",
      "7                                                                                                                      \n",
      " 46%|█████████████████████▌                         | 46/100 [00:31<00:34,  1.58trial/s, best loss: 0.1423195084485407]"
     ]
    },
    {
     "name": "stderr",
     "output_type": "stream",
     "text": [
      "C:\\Users\\Shay\\AppData\\Roaming\\Python\\Python39\\site-packages\\xgboost\\sklearn.py:861: UserWarning: `eval_metric` in `fit` method is deprecated for better compatibility with scikit-learn, use `eval_metric` in constructor or`set_params` instead.\n",
      "  warnings.warn(\n",
      "\n",
      "C:\\Users\\Shay\\AppData\\Roaming\\Python\\Python39\\site-packages\\xgboost\\sklearn.py:861: UserWarning: `early_stopping_rounds` in `fit` method is deprecated for better compatibility with scikit-learn, use `early_stopping_rounds` in constructor or`set_params` instead.\n",
      "  warnings.warn(\n",
      "\n"
     ]
    },
    {
     "name": "stdout",
     "output_type": "stream",
     "text": [
      "[0]\tvalidation_0-auc:0.92524\tvalidation_1-auc:0.84347                                                                  \n",
      "[1]\tvalidation_0-auc:0.93291\tvalidation_1-auc:0.85553                                                                  \n",
      "[2]\tvalidation_0-auc:0.95295\tvalidation_1-auc:0.84700                                                                  \n",
      "[3]\tvalidation_0-auc:0.96278\tvalidation_1-auc:0.84639                                                                  \n",
      "SCORE:                                                                                                                 \n",
      "0.8555299539170508                                                                                                     \n",
      "Current max depth selected by algorithm:                                                                               \n",
      "20                                                                                                                     \n",
      " 47%|██████████████████████                         | 47/100 [00:32<00:32,  1.61trial/s, best loss: 0.1423195084485407]"
     ]
    },
    {
     "name": "stderr",
     "output_type": "stream",
     "text": [
      "C:\\Users\\Shay\\AppData\\Roaming\\Python\\Python39\\site-packages\\xgboost\\sklearn.py:861: UserWarning: `eval_metric` in `fit` method is deprecated for better compatibility with scikit-learn, use `eval_metric` in constructor or`set_params` instead.\n",
      "  warnings.warn(\n",
      "\n",
      "C:\\Users\\Shay\\AppData\\Roaming\\Python\\Python39\\site-packages\\xgboost\\sklearn.py:861: UserWarning: `early_stopping_rounds` in `fit` method is deprecated for better compatibility with scikit-learn, use `early_stopping_rounds` in constructor or`set_params` instead.\n",
      "  warnings.warn(\n",
      "\n"
     ]
    },
    {
     "name": "stdout",
     "output_type": "stream",
     "text": [
      "[0]\tvalidation_0-auc:0.93523\tvalidation_1-auc:0.83502                                                                  \n",
      "[1]\tvalidation_0-auc:0.94252\tvalidation_1-auc:0.85614                                                                  \n",
      "[2]\tvalidation_0-auc:0.96508\tvalidation_1-auc:0.84224                                                                  \n",
      "[3]\tvalidation_0-auc:0.97334\tvalidation_1-auc:0.84378                                                                  \n",
      "SCORE:                                                                                                                 \n",
      "0.8561443932411675                                                                                                     \n",
      "Current max depth selected by algorithm:                                                                               \n",
      "8                                                                                                                      \n",
      " 48%|██████████████████████▌                        | 48/100 [00:32<00:32,  1.61trial/s, best loss: 0.1423195084485407]"
     ]
    },
    {
     "name": "stderr",
     "output_type": "stream",
     "text": [
      "C:\\Users\\Shay\\AppData\\Roaming\\Python\\Python39\\site-packages\\xgboost\\sklearn.py:861: UserWarning: `eval_metric` in `fit` method is deprecated for better compatibility with scikit-learn, use `eval_metric` in constructor or`set_params` instead.\n",
      "  warnings.warn(\n",
      "\n",
      "C:\\Users\\Shay\\AppData\\Roaming\\Python\\Python39\\site-packages\\xgboost\\sklearn.py:861: UserWarning: `early_stopping_rounds` in `fit` method is deprecated for better compatibility with scikit-learn, use `early_stopping_rounds` in constructor or`set_params` instead.\n",
      "  warnings.warn(\n",
      "\n"
     ]
    },
    {
     "name": "stdout",
     "output_type": "stream",
     "text": [
      "[0]\tvalidation_0-auc:0.92876\tvalidation_1-auc:0.84178                                                                  \n",
      "[1]\tvalidation_0-auc:0.93884\tvalidation_1-auc:0.85361                                                                  \n",
      "[2]\tvalidation_0-auc:0.95729\tvalidation_1-auc:0.83909                                                                  \n",
      "[3]\tvalidation_0-auc:0.96841\tvalidation_1-auc:0.84316                                                                  \n",
      "[4]\tvalidation_0-auc:0.97539\tvalidation_1-auc:0.82903                                                                  \n",
      "SCORE:                                                                                                                 \n",
      "0.853609831029186                                                                                                      \n",
      "Current max depth selected by algorithm:                                                                               \n",
      "29                                                                                                                     \n",
      " 49%|███████████████████████                        | 49/100 [00:33<00:31,  1.62trial/s, best loss: 0.1423195084485407]"
     ]
    },
    {
     "name": "stderr",
     "output_type": "stream",
     "text": [
      "C:\\Users\\Shay\\AppData\\Roaming\\Python\\Python39\\site-packages\\xgboost\\sklearn.py:861: UserWarning: `eval_metric` in `fit` method is deprecated for better compatibility with scikit-learn, use `eval_metric` in constructor or`set_params` instead.\n",
      "  warnings.warn(\n",
      "\n",
      "C:\\Users\\Shay\\AppData\\Roaming\\Python\\Python39\\site-packages\\xgboost\\sklearn.py:861: UserWarning: `early_stopping_rounds` in `fit` method is deprecated for better compatibility with scikit-learn, use `early_stopping_rounds` in constructor or`set_params` instead.\n",
      "  warnings.warn(\n",
      "\n"
     ]
    },
    {
     "name": "stdout",
     "output_type": "stream",
     "text": [
      "[0]\tvalidation_0-auc:0.93523\tvalidation_1-auc:0.83502                                                                  \n",
      "[1]\tvalidation_0-auc:0.94252\tvalidation_1-auc:0.85614                                                                  \n",
      "[2]\tvalidation_0-auc:0.96508\tvalidation_1-auc:0.84224                                                                  \n",
      "[3]\tvalidation_0-auc:0.97334\tvalidation_1-auc:0.84378                                                                  \n",
      "SCORE:                                                                                                                 \n",
      "0.8561443932411675                                                                                                     \n",
      "Current max depth selected by algorithm:                                                                               \n",
      "25                                                                                                                     \n",
      " 50%|███████████████████████▌                       | 50/100 [00:33<00:30,  1.61trial/s, best loss: 0.1423195084485407]"
     ]
    },
    {
     "name": "stderr",
     "output_type": "stream",
     "text": [
      "C:\\Users\\Shay\\AppData\\Roaming\\Python\\Python39\\site-packages\\xgboost\\sklearn.py:861: UserWarning: `eval_metric` in `fit` method is deprecated for better compatibility with scikit-learn, use `eval_metric` in constructor or`set_params` instead.\n",
      "  warnings.warn(\n",
      "\n",
      "C:\\Users\\Shay\\AppData\\Roaming\\Python\\Python39\\site-packages\\xgboost\\sklearn.py:861: UserWarning: `early_stopping_rounds` in `fit` method is deprecated for better compatibility with scikit-learn, use `early_stopping_rounds` in constructor or`set_params` instead.\n",
      "  warnings.warn(\n",
      "\n"
     ]
    },
    {
     "name": "stdout",
     "output_type": "stream",
     "text": [
      "[0]\tvalidation_0-auc:0.93523\tvalidation_1-auc:0.83502                                                                  \n",
      "[1]\tvalidation_0-auc:0.94252\tvalidation_1-auc:0.85614                                                                  \n",
      "[2]\tvalidation_0-auc:0.96508\tvalidation_1-auc:0.84224                                                                  \n",
      "[3]\tvalidation_0-auc:0.97334\tvalidation_1-auc:0.84378                                                                  \n",
      "[4]\tvalidation_0-auc:0.97927\tvalidation_1-auc:0.83057                                                                  \n",
      "SCORE:                                                                                                                 \n",
      "0.8561443932411675                                                                                                     \n",
      "Current max depth selected by algorithm:                                                                               \n",
      "5                                                                                                                      \n",
      " 51%|███████████████████████▉                       | 51/100 [00:34<00:30,  1.60trial/s, best loss: 0.1423195084485407]"
     ]
    },
    {
     "name": "stderr",
     "output_type": "stream",
     "text": [
      "C:\\Users\\Shay\\AppData\\Roaming\\Python\\Python39\\site-packages\\xgboost\\sklearn.py:861: UserWarning: `eval_metric` in `fit` method is deprecated for better compatibility with scikit-learn, use `eval_metric` in constructor or`set_params` instead.\n",
      "  warnings.warn(\n",
      "\n",
      "C:\\Users\\Shay\\AppData\\Roaming\\Python\\Python39\\site-packages\\xgboost\\sklearn.py:861: UserWarning: `early_stopping_rounds` in `fit` method is deprecated for better compatibility with scikit-learn, use `early_stopping_rounds` in constructor or`set_params` instead.\n",
      "  warnings.warn(\n",
      "\n"
     ]
    },
    {
     "name": "stdout",
     "output_type": "stream",
     "text": [
      "[0]\tvalidation_0-auc:0.91006\tvalidation_1-auc:0.83840                                                                  \n",
      "[1]\tvalidation_0-auc:0.91801\tvalidation_1-auc:0.83126                                                                  \n",
      "[2]\tvalidation_0-auc:0.93009\tvalidation_1-auc:0.83932                                                                  \n",
      "[3]\tvalidation_0-auc:0.93940\tvalidation_1-auc:0.83495                                                                  \n",
      "[4]\tvalidation_0-auc:0.94930\tvalidation_1-auc:0.82120                                                                  \n",
      "SCORE:                                                                                                                 \n",
      "0.8393241167434716                                                                                                     \n",
      "Current max depth selected by algorithm:                                                                               \n",
      "9                                                                                                                      \n",
      " 52%|████████████████████████▍                      | 52/100 [00:35<00:30,  1.56trial/s, best loss: 0.1423195084485407]"
     ]
    },
    {
     "name": "stderr",
     "output_type": "stream",
     "text": [
      "C:\\Users\\Shay\\AppData\\Roaming\\Python\\Python39\\site-packages\\xgboost\\sklearn.py:861: UserWarning: `eval_metric` in `fit` method is deprecated for better compatibility with scikit-learn, use `eval_metric` in constructor or`set_params` instead.\n",
      "  warnings.warn(\n",
      "\n",
      "C:\\Users\\Shay\\AppData\\Roaming\\Python\\Python39\\site-packages\\xgboost\\sklearn.py:861: UserWarning: `early_stopping_rounds` in `fit` method is deprecated for better compatibility with scikit-learn, use `early_stopping_rounds` in constructor or`set_params` instead.\n",
      "  warnings.warn(\n",
      "\n"
     ]
    },
    {
     "name": "stdout",
     "output_type": "stream",
     "text": [
      "[0]\tvalidation_0-auc:0.93380\tvalidation_1-auc:0.83533                                                                  \n",
      "[1]\tvalidation_0-auc:0.94208\tvalidation_1-auc:0.85768                                                                  \n",
      "[2]\tvalidation_0-auc:0.96354\tvalidation_1-auc:0.84455                                                                  \n",
      "[3]\tvalidation_0-auc:0.97235\tvalidation_1-auc:0.84731                                                                  \n",
      "SCORE:                                                                                                                 \n",
      "0.8576804915514593                                                                                                     \n",
      "Current max depth selected by algorithm:                                                                               \n",
      "19                                                                                                                     \n",
      " 53%|████████████████████████▉                      | 53/100 [00:35<00:30,  1.57trial/s, best loss: 0.1423195084485407]"
     ]
    },
    {
     "name": "stderr",
     "output_type": "stream",
     "text": [
      "C:\\Users\\Shay\\AppData\\Roaming\\Python\\Python39\\site-packages\\xgboost\\sklearn.py:861: UserWarning: `eval_metric` in `fit` method is deprecated for better compatibility with scikit-learn, use `eval_metric` in constructor or`set_params` instead.\n",
      "  warnings.warn(\n",
      "\n",
      "C:\\Users\\Shay\\AppData\\Roaming\\Python\\Python39\\site-packages\\xgboost\\sklearn.py:861: UserWarning: `early_stopping_rounds` in `fit` method is deprecated for better compatibility with scikit-learn, use `early_stopping_rounds` in constructor or`set_params` instead.\n",
      "  warnings.warn(\n",
      "\n"
     ]
    },
    {
     "name": "stdout",
     "output_type": "stream",
     "text": [
      "[0]\tvalidation_0-auc:0.93523\tvalidation_1-auc:0.83502                                                                  \n",
      "[1]\tvalidation_0-auc:0.94252\tvalidation_1-auc:0.85614                                                                  \n",
      "[2]\tvalidation_0-auc:0.96508\tvalidation_1-auc:0.84224                                                                  \n",
      "[3]\tvalidation_0-auc:0.97334\tvalidation_1-auc:0.84378                                                                  \n",
      "[4]\tvalidation_0-auc:0.97927\tvalidation_1-auc:0.83057                                                                  \n",
      "SCORE:                                                                                                                 \n",
      "0.8561443932411675                                                                                                     \n",
      "Current max depth selected by algorithm:                                                                               \n",
      "16                                                                                                                     \n",
      " 54%|█████████████████████████▍                     | 54/100 [00:36<00:29,  1.57trial/s, best loss: 0.1423195084485407]"
     ]
    },
    {
     "name": "stderr",
     "output_type": "stream",
     "text": [
      "C:\\Users\\Shay\\AppData\\Roaming\\Python\\Python39\\site-packages\\xgboost\\sklearn.py:861: UserWarning: `eval_metric` in `fit` method is deprecated for better compatibility with scikit-learn, use `eval_metric` in constructor or`set_params` instead.\n",
      "  warnings.warn(\n",
      "\n",
      "C:\\Users\\Shay\\AppData\\Roaming\\Python\\Python39\\site-packages\\xgboost\\sklearn.py:861: UserWarning: `early_stopping_rounds` in `fit` method is deprecated for better compatibility with scikit-learn, use `early_stopping_rounds` in constructor or`set_params` instead.\n",
      "  warnings.warn(\n",
      "\n"
     ]
    },
    {
     "name": "stdout",
     "output_type": "stream",
     "text": [
      "[0]\tvalidation_0-auc:0.93523\tvalidation_1-auc:0.83502                                                                  \n",
      "[1]\tvalidation_0-auc:0.94252\tvalidation_1-auc:0.85614                                                                  \n",
      "[2]\tvalidation_0-auc:0.96508\tvalidation_1-auc:0.84224                                                                  \n",
      "[3]\tvalidation_0-auc:0.97334\tvalidation_1-auc:0.84378                                                                  \n",
      "[4]\tvalidation_0-auc:0.97927\tvalidation_1-auc:0.83057                                                                  \n",
      "SCORE:                                                                                                                 \n",
      "0.8561443932411675                                                                                                     \n",
      "Current max depth selected by algorithm:                                                                               \n",
      "18                                                                                                                     \n",
      " 55%|█████████████████████████▊                     | 55/100 [00:37<00:29,  1.54trial/s, best loss: 0.1423195084485407]"
     ]
    },
    {
     "name": "stderr",
     "output_type": "stream",
     "text": [
      "C:\\Users\\Shay\\AppData\\Roaming\\Python\\Python39\\site-packages\\xgboost\\sklearn.py:861: UserWarning: `eval_metric` in `fit` method is deprecated for better compatibility with scikit-learn, use `eval_metric` in constructor or`set_params` instead.\n",
      "  warnings.warn(\n",
      "\n",
      "C:\\Users\\Shay\\AppData\\Roaming\\Python\\Python39\\site-packages\\xgboost\\sklearn.py:861: UserWarning: `early_stopping_rounds` in `fit` method is deprecated for better compatibility with scikit-learn, use `early_stopping_rounds` in constructor or`set_params` instead.\n",
      "  warnings.warn(\n",
      "\n"
     ]
    },
    {
     "name": "stdout",
     "output_type": "stream",
     "text": [
      "[0]\tvalidation_0-auc:0.93523\tvalidation_1-auc:0.83502                                                                  \n",
      "[1]\tvalidation_0-auc:0.94252\tvalidation_1-auc:0.85614                                                                  \n",
      "[2]\tvalidation_0-auc:0.96508\tvalidation_1-auc:0.84224                                                                  \n",
      "[3]\tvalidation_0-auc:0.97334\tvalidation_1-auc:0.84378                                                                  \n",
      "SCORE:                                                                                                                 \n",
      "0.8561443932411675                                                                                                     \n",
      "Current max depth selected by algorithm:                                                                               \n",
      "30                                                                                                                     \n",
      " 56%|██████████████████████████▎                    | 56/100 [00:37<00:28,  1.56trial/s, best loss: 0.1423195084485407]"
     ]
    },
    {
     "name": "stderr",
     "output_type": "stream",
     "text": [
      "C:\\Users\\Shay\\AppData\\Roaming\\Python\\Python39\\site-packages\\xgboost\\sklearn.py:861: UserWarning: `eval_metric` in `fit` method is deprecated for better compatibility with scikit-learn, use `eval_metric` in constructor or`set_params` instead.\n",
      "  warnings.warn(\n",
      "\n",
      "C:\\Users\\Shay\\AppData\\Roaming\\Python\\Python39\\site-packages\\xgboost\\sklearn.py:861: UserWarning: `early_stopping_rounds` in `fit` method is deprecated for better compatibility with scikit-learn, use `early_stopping_rounds` in constructor or`set_params` instead.\n",
      "  warnings.warn(\n",
      "\n"
     ]
    },
    {
     "name": "stdout",
     "output_type": "stream",
     "text": [
      "[0]\tvalidation_0-auc:0.93523\tvalidation_1-auc:0.83502                                                                  \n",
      "[1]\tvalidation_0-auc:0.94252\tvalidation_1-auc:0.85614                                                                  \n",
      "[2]\tvalidation_0-auc:0.96508\tvalidation_1-auc:0.84224                                                                  \n",
      "[3]\tvalidation_0-auc:0.97334\tvalidation_1-auc:0.84378                                                                  \n",
      "[4]\tvalidation_0-auc:0.97927\tvalidation_1-auc:0.83057                                                                  \n",
      "SCORE:                                                                                                                 \n",
      "0.8561443932411675                                                                                                     \n",
      "Current max depth selected by algorithm:                                                                               \n",
      "26                                                                                                                     \n",
      " 57%|██████████████████████████▊                    | 57/100 [00:38<00:27,  1.56trial/s, best loss: 0.1423195084485407]"
     ]
    },
    {
     "name": "stderr",
     "output_type": "stream",
     "text": [
      "C:\\Users\\Shay\\AppData\\Roaming\\Python\\Python39\\site-packages\\xgboost\\sklearn.py:861: UserWarning: `eval_metric` in `fit` method is deprecated for better compatibility with scikit-learn, use `eval_metric` in constructor or`set_params` instead.\n",
      "  warnings.warn(\n",
      "\n",
      "C:\\Users\\Shay\\AppData\\Roaming\\Python\\Python39\\site-packages\\xgboost\\sklearn.py:861: UserWarning: `early_stopping_rounds` in `fit` method is deprecated for better compatibility with scikit-learn, use `early_stopping_rounds` in constructor or`set_params` instead.\n",
      "  warnings.warn(\n",
      "\n"
     ]
    },
    {
     "name": "stdout",
     "output_type": "stream",
     "text": [
      "[0]\tvalidation_0-auc:0.93523\tvalidation_1-auc:0.83502                                                                  \n",
      "[1]\tvalidation_0-auc:0.94252\tvalidation_1-auc:0.85614                                                                  \n",
      "[2]\tvalidation_0-auc:0.96508\tvalidation_1-auc:0.84224                                                                  \n",
      "[3]\tvalidation_0-auc:0.97334\tvalidation_1-auc:0.84378                                                                  \n",
      "[4]\tvalidation_0-auc:0.97927\tvalidation_1-auc:0.83057                                                                  \n",
      "SCORE:                                                                                                                 \n",
      "0.8561443932411675                                                                                                     \n",
      "Current max depth selected by algorithm:                                                                               \n",
      "15                                                                                                                     \n",
      " 58%|███████████████████████████▎                   | 58/100 [00:39<00:27,  1.54trial/s, best loss: 0.1423195084485407]"
     ]
    },
    {
     "name": "stderr",
     "output_type": "stream",
     "text": [
      "C:\\Users\\Shay\\AppData\\Roaming\\Python\\Python39\\site-packages\\xgboost\\sklearn.py:861: UserWarning: `eval_metric` in `fit` method is deprecated for better compatibility with scikit-learn, use `eval_metric` in constructor or`set_params` instead.\n",
      "  warnings.warn(\n",
      "\n",
      "C:\\Users\\Shay\\AppData\\Roaming\\Python\\Python39\\site-packages\\xgboost\\sklearn.py:861: UserWarning: `early_stopping_rounds` in `fit` method is deprecated for better compatibility with scikit-learn, use `early_stopping_rounds` in constructor or`set_params` instead.\n",
      "  warnings.warn(\n",
      "\n"
     ]
    },
    {
     "name": "stdout",
     "output_type": "stream",
     "text": [
      "[0]\tvalidation_0-auc:0.93523\tvalidation_1-auc:0.83502                                                                  \n",
      "[1]\tvalidation_0-auc:0.94252\tvalidation_1-auc:0.85614                                                                  \n",
      "[2]\tvalidation_0-auc:0.96508\tvalidation_1-auc:0.84224                                                                  \n",
      "[3]\tvalidation_0-auc:0.97334\tvalidation_1-auc:0.84378                                                                  \n",
      "[4]\tvalidation_0-auc:0.97927\tvalidation_1-auc:0.83057                                                                  \n",
      "SCORE:                                                                                                                 \n",
      "0.8561443932411675                                                                                                     \n",
      "Current max depth selected by algorithm:                                                                               \n",
      "22                                                                                                                     \n",
      " 59%|███████████████████████████▋                   | 59/100 [00:39<00:26,  1.56trial/s, best loss: 0.1423195084485407]"
     ]
    },
    {
     "name": "stderr",
     "output_type": "stream",
     "text": [
      "C:\\Users\\Shay\\AppData\\Roaming\\Python\\Python39\\site-packages\\xgboost\\sklearn.py:861: UserWarning: `eval_metric` in `fit` method is deprecated for better compatibility with scikit-learn, use `eval_metric` in constructor or`set_params` instead.\n",
      "  warnings.warn(\n",
      "\n",
      "C:\\Users\\Shay\\AppData\\Roaming\\Python\\Python39\\site-packages\\xgboost\\sklearn.py:861: UserWarning: `early_stopping_rounds` in `fit` method is deprecated for better compatibility with scikit-learn, use `early_stopping_rounds` in constructor or`set_params` instead.\n",
      "  warnings.warn(\n",
      "\n"
     ]
    },
    {
     "name": "stdout",
     "output_type": "stream",
     "text": [
      "[0]\tvalidation_0-auc:0.93523\tvalidation_1-auc:0.83502                                                                  \n",
      "[1]\tvalidation_0-auc:0.94252\tvalidation_1-auc:0.85614                                                                  \n",
      "[2]\tvalidation_0-auc:0.96508\tvalidation_1-auc:0.84224                                                                  \n",
      "[3]\tvalidation_0-auc:0.97334\tvalidation_1-auc:0.84378                                                                  \n",
      "SCORE:                                                                                                                 \n",
      "0.8561443932411675                                                                                                     \n",
      "Current max depth selected by algorithm:                                                                               \n",
      "13                                                                                                                     \n",
      " 60%|████████████████████████████▏                  | 60/100 [00:40<00:25,  1.54trial/s, best loss: 0.1423195084485407]"
     ]
    },
    {
     "name": "stderr",
     "output_type": "stream",
     "text": [
      "C:\\Users\\Shay\\AppData\\Roaming\\Python\\Python39\\site-packages\\xgboost\\sklearn.py:861: UserWarning: `eval_metric` in `fit` method is deprecated for better compatibility with scikit-learn, use `eval_metric` in constructor or`set_params` instead.\n",
      "  warnings.warn(\n",
      "\n",
      "C:\\Users\\Shay\\AppData\\Roaming\\Python\\Python39\\site-packages\\xgboost\\sklearn.py:861: UserWarning: `early_stopping_rounds` in `fit` method is deprecated for better compatibility with scikit-learn, use `early_stopping_rounds` in constructor or`set_params` instead.\n",
      "  warnings.warn(\n",
      "\n"
     ]
    },
    {
     "name": "stdout",
     "output_type": "stream",
     "text": [
      "[0]\tvalidation_0-auc:0.93523\tvalidation_1-auc:0.83502                                                                  \n",
      "[1]\tvalidation_0-auc:0.94252\tvalidation_1-auc:0.85614                                                                  \n",
      "[2]\tvalidation_0-auc:0.96508\tvalidation_1-auc:0.84224                                                                  \n",
      "[3]\tvalidation_0-auc:0.97334\tvalidation_1-auc:0.84378                                                                  \n",
      "[4]\tvalidation_0-auc:0.97927\tvalidation_1-auc:0.83057                                                                  \n",
      "SCORE:                                                                                                                 \n",
      "0.8561443932411675                                                                                                     \n",
      "Current max depth selected by algorithm:                                                                               \n",
      "27                                                                                                                     \n",
      " 61%|████████████████████████████▋                  | 61/100 [00:41<00:24,  1.56trial/s, best loss: 0.1423195084485407]"
     ]
    },
    {
     "name": "stderr",
     "output_type": "stream",
     "text": [
      "C:\\Users\\Shay\\AppData\\Roaming\\Python\\Python39\\site-packages\\xgboost\\sklearn.py:861: UserWarning: `eval_metric` in `fit` method is deprecated for better compatibility with scikit-learn, use `eval_metric` in constructor or`set_params` instead.\n",
      "  warnings.warn(\n",
      "\n",
      "C:\\Users\\Shay\\AppData\\Roaming\\Python\\Python39\\site-packages\\xgboost\\sklearn.py:861: UserWarning: `early_stopping_rounds` in `fit` method is deprecated for better compatibility with scikit-learn, use `early_stopping_rounds` in constructor or`set_params` instead.\n",
      "  warnings.warn(\n",
      "\n"
     ]
    },
    {
     "name": "stdout",
     "output_type": "stream",
     "text": [
      "[0]\tvalidation_0-auc:0.93523\tvalidation_1-auc:0.83502                                                                  \n",
      "[1]\tvalidation_0-auc:0.94252\tvalidation_1-auc:0.85614                                                                  \n",
      "[2]\tvalidation_0-auc:0.96508\tvalidation_1-auc:0.84224                                                                  \n",
      "[3]\tvalidation_0-auc:0.97334\tvalidation_1-auc:0.84378                                                                  \n",
      "[4]\tvalidation_0-auc:0.97927\tvalidation_1-auc:0.83057                                                                  \n",
      "SCORE:                                                                                                                 \n",
      "0.8561443932411675                                                                                                     \n",
      "Current max depth selected by algorithm:                                                                               \n",
      "28                                                                                                                     \n",
      " 62%|█████████████████████████████▏                 | 62/100 [00:41<00:24,  1.57trial/s, best loss: 0.1423195084485407]"
     ]
    },
    {
     "name": "stderr",
     "output_type": "stream",
     "text": [
      "C:\\Users\\Shay\\AppData\\Roaming\\Python\\Python39\\site-packages\\xgboost\\sklearn.py:861: UserWarning: `eval_metric` in `fit` method is deprecated for better compatibility with scikit-learn, use `eval_metric` in constructor or`set_params` instead.\n",
      "  warnings.warn(\n",
      "\n",
      "C:\\Users\\Shay\\AppData\\Roaming\\Python\\Python39\\site-packages\\xgboost\\sklearn.py:861: UserWarning: `early_stopping_rounds` in `fit` method is deprecated for better compatibility with scikit-learn, use `early_stopping_rounds` in constructor or`set_params` instead.\n",
      "  warnings.warn(\n",
      "\n"
     ]
    },
    {
     "name": "stdout",
     "output_type": "stream",
     "text": [
      "[0]\tvalidation_0-auc:0.93523\tvalidation_1-auc:0.83502                                                                  \n",
      "[1]\tvalidation_0-auc:0.94252\tvalidation_1-auc:0.85614                                                                  \n",
      "[2]\tvalidation_0-auc:0.96508\tvalidation_1-auc:0.84224                                                                  \n",
      "[3]\tvalidation_0-auc:0.97334\tvalidation_1-auc:0.84378                                                                  \n",
      "[4]\tvalidation_0-auc:0.97927\tvalidation_1-auc:0.83057                                                                  \n",
      "SCORE:                                                                                                                 \n",
      "0.8561443932411675                                                                                                     \n",
      "Current max depth selected by algorithm:                                                                               \n",
      "14                                                                                                                     \n",
      " 63%|█████████████████████████████▌                 | 63/100 [00:42<00:24,  1.53trial/s, best loss: 0.1423195084485407]"
     ]
    },
    {
     "name": "stderr",
     "output_type": "stream",
     "text": [
      "C:\\Users\\Shay\\AppData\\Roaming\\Python\\Python39\\site-packages\\xgboost\\sklearn.py:861: UserWarning: `eval_metric` in `fit` method is deprecated for better compatibility with scikit-learn, use `eval_metric` in constructor or`set_params` instead.\n",
      "  warnings.warn(\n",
      "\n",
      "C:\\Users\\Shay\\AppData\\Roaming\\Python\\Python39\\site-packages\\xgboost\\sklearn.py:861: UserWarning: `early_stopping_rounds` in `fit` method is deprecated for better compatibility with scikit-learn, use `early_stopping_rounds` in constructor or`set_params` instead.\n",
      "  warnings.warn(\n",
      "\n"
     ]
    },
    {
     "name": "stdout",
     "output_type": "stream",
     "text": [
      "[0]\tvalidation_0-auc:0.93523\tvalidation_1-auc:0.83502                                                                  \n",
      "[1]\tvalidation_0-auc:0.94252\tvalidation_1-auc:0.85614                                                                  \n",
      "[2]\tvalidation_0-auc:0.96508\tvalidation_1-auc:0.84224                                                                  \n",
      "[3]\tvalidation_0-auc:0.97334\tvalidation_1-auc:0.84378                                                                  \n",
      "SCORE:                                                                                                                 \n",
      "0.8561443932411675                                                                                                     \n",
      "Current max depth selected by algorithm:                                                                               \n",
      "17                                                                                                                     \n",
      " 64%|██████████████████████████████                 | 64/100 [00:42<00:23,  1.56trial/s, best loss: 0.1423195084485407]"
     ]
    },
    {
     "name": "stderr",
     "output_type": "stream",
     "text": [
      "C:\\Users\\Shay\\AppData\\Roaming\\Python\\Python39\\site-packages\\xgboost\\sklearn.py:861: UserWarning: `eval_metric` in `fit` method is deprecated for better compatibility with scikit-learn, use `eval_metric` in constructor or`set_params` instead.\n",
      "  warnings.warn(\n",
      "\n",
      "C:\\Users\\Shay\\AppData\\Roaming\\Python\\Python39\\site-packages\\xgboost\\sklearn.py:861: UserWarning: `early_stopping_rounds` in `fit` method is deprecated for better compatibility with scikit-learn, use `early_stopping_rounds` in constructor or`set_params` instead.\n",
      "  warnings.warn(\n",
      "\n"
     ]
    },
    {
     "name": "stdout",
     "output_type": "stream",
     "text": [
      "[0]\tvalidation_0-auc:0.93523\tvalidation_1-auc:0.83502                                                                  \n",
      "[1]\tvalidation_0-auc:0.94252\tvalidation_1-auc:0.85614                                                                  \n",
      "[2]\tvalidation_0-auc:0.96508\tvalidation_1-auc:0.84224                                                                  \n",
      "[3]\tvalidation_0-auc:0.97334\tvalidation_1-auc:0.84378                                                                  \n",
      "SCORE:                                                                                                                 \n",
      "0.8561443932411675                                                                                                     \n",
      "Current max depth selected by algorithm:                                                                               \n",
      "9                                                                                                                      \n",
      " 65%|██████████████████████████████▌                | 65/100 [00:43<00:21,  1.59trial/s, best loss: 0.1423195084485407]"
     ]
    },
    {
     "name": "stderr",
     "output_type": "stream",
     "text": [
      "C:\\Users\\Shay\\AppData\\Roaming\\Python\\Python39\\site-packages\\xgboost\\sklearn.py:861: UserWarning: `eval_metric` in `fit` method is deprecated for better compatibility with scikit-learn, use `eval_metric` in constructor or`set_params` instead.\n",
      "  warnings.warn(\n",
      "\n",
      "C:\\Users\\Shay\\AppData\\Roaming\\Python\\Python39\\site-packages\\xgboost\\sklearn.py:861: UserWarning: `early_stopping_rounds` in `fit` method is deprecated for better compatibility with scikit-learn, use `early_stopping_rounds` in constructor or`set_params` instead.\n",
      "  warnings.warn(\n",
      "\n"
     ]
    },
    {
     "name": "stdout",
     "output_type": "stream",
     "text": [
      "[0]\tvalidation_0-auc:0.93380\tvalidation_1-auc:0.83533                                                                  \n",
      "[1]\tvalidation_0-auc:0.94208\tvalidation_1-auc:0.85768                                                                  \n",
      "[2]\tvalidation_0-auc:0.96354\tvalidation_1-auc:0.84455                                                                  \n",
      "[3]\tvalidation_0-auc:0.97235\tvalidation_1-auc:0.84731                                                                  \n",
      "[4]\tvalidation_0-auc:0.97688\tvalidation_1-auc:0.83510                                                                  \n",
      "SCORE:                                                                                                                 \n",
      "0.8576804915514593                                                                                                     \n",
      "Current max depth selected by algorithm:                                                                               \n",
      "9                                                                                                                      \n",
      " 66%|███████████████████████████████                | 66/100 [00:44<00:21,  1.58trial/s, best loss: 0.1423195084485407]"
     ]
    },
    {
     "name": "stderr",
     "output_type": "stream",
     "text": [
      "C:\\Users\\Shay\\AppData\\Roaming\\Python\\Python39\\site-packages\\xgboost\\sklearn.py:861: UserWarning: `eval_metric` in `fit` method is deprecated for better compatibility with scikit-learn, use `eval_metric` in constructor or`set_params` instead.\n",
      "  warnings.warn(\n",
      "\n",
      "C:\\Users\\Shay\\AppData\\Roaming\\Python\\Python39\\site-packages\\xgboost\\sklearn.py:861: UserWarning: `early_stopping_rounds` in `fit` method is deprecated for better compatibility with scikit-learn, use `early_stopping_rounds` in constructor or`set_params` instead.\n",
      "  warnings.warn(\n",
      "\n"
     ]
    },
    {
     "name": "stdout",
     "output_type": "stream",
     "text": [
      "[0]\tvalidation_0-auc:0.93380\tvalidation_1-auc:0.83533                                                                  \n",
      "[1]\tvalidation_0-auc:0.94208\tvalidation_1-auc:0.85768                                                                  \n",
      "[2]\tvalidation_0-auc:0.96354\tvalidation_1-auc:0.84455                                                                  \n",
      "[3]\tvalidation_0-auc:0.97235\tvalidation_1-auc:0.84731                                                                  \n",
      "[4]\tvalidation_0-auc:0.97688\tvalidation_1-auc:0.83510                                                                  \n",
      "SCORE:                                                                                                                 \n",
      "0.8576804915514593                                                                                                     \n",
      "Current max depth selected by algorithm:                                                                               \n",
      "9                                                                                                                      \n",
      " 67%|███████████████████████████████▍               | 67/100 [00:44<00:21,  1.53trial/s, best loss: 0.1423195084485407]"
     ]
    },
    {
     "name": "stderr",
     "output_type": "stream",
     "text": [
      "C:\\Users\\Shay\\AppData\\Roaming\\Python\\Python39\\site-packages\\xgboost\\sklearn.py:861: UserWarning: `eval_metric` in `fit` method is deprecated for better compatibility with scikit-learn, use `eval_metric` in constructor or`set_params` instead.\n",
      "  warnings.warn(\n",
      "\n",
      "C:\\Users\\Shay\\AppData\\Roaming\\Python\\Python39\\site-packages\\xgboost\\sklearn.py:861: UserWarning: `early_stopping_rounds` in `fit` method is deprecated for better compatibility with scikit-learn, use `early_stopping_rounds` in constructor or`set_params` instead.\n",
      "  warnings.warn(\n",
      "\n"
     ]
    },
    {
     "name": "stdout",
     "output_type": "stream",
     "text": [
      "[0]\tvalidation_0-auc:0.93380\tvalidation_1-auc:0.83533                                                                  \n",
      "[1]\tvalidation_0-auc:0.94208\tvalidation_1-auc:0.85768                                                                  \n",
      "[2]\tvalidation_0-auc:0.96354\tvalidation_1-auc:0.84455                                                                  \n",
      "[3]\tvalidation_0-auc:0.97235\tvalidation_1-auc:0.84731                                                                  \n",
      "[4]\tvalidation_0-auc:0.97688\tvalidation_1-auc:0.83510                                                                  \n",
      "SCORE:                                                                                                                 \n",
      "0.8576804915514593                                                                                                     \n",
      "Current max depth selected by algorithm:                                                                               \n",
      "21                                                                                                                     \n",
      " 68%|███████████████████████████████▉               | 68/100 [00:45<00:20,  1.53trial/s, best loss: 0.1423195084485407]"
     ]
    },
    {
     "name": "stderr",
     "output_type": "stream",
     "text": [
      "C:\\Users\\Shay\\AppData\\Roaming\\Python\\Python39\\site-packages\\xgboost\\sklearn.py:861: UserWarning: `eval_metric` in `fit` method is deprecated for better compatibility with scikit-learn, use `eval_metric` in constructor or`set_params` instead.\n",
      "  warnings.warn(\n",
      "\n",
      "C:\\Users\\Shay\\AppData\\Roaming\\Python\\Python39\\site-packages\\xgboost\\sklearn.py:861: UserWarning: `early_stopping_rounds` in `fit` method is deprecated for better compatibility with scikit-learn, use `early_stopping_rounds` in constructor or`set_params` instead.\n",
      "  warnings.warn(\n",
      "\n"
     ]
    },
    {
     "name": "stdout",
     "output_type": "stream",
     "text": [
      "[0]\tvalidation_0-auc:0.93523\tvalidation_1-auc:0.83502                                                                  \n",
      "[1]\tvalidation_0-auc:0.94252\tvalidation_1-auc:0.85614                                                                  \n",
      "[2]\tvalidation_0-auc:0.96508\tvalidation_1-auc:0.84224                                                                  \n",
      "[3]\tvalidation_0-auc:0.97334\tvalidation_1-auc:0.84378                                                                  \n",
      "SCORE:                                                                                                                 \n",
      "0.8561443932411675                                                                                                     \n",
      "Current max depth selected by algorithm:                                                                               \n",
      "11                                                                                                                     \n",
      " 69%|████████████████████████████████▍              | 69/100 [00:46<00:20,  1.51trial/s, best loss: 0.1423195084485407]"
     ]
    },
    {
     "name": "stderr",
     "output_type": "stream",
     "text": [
      "C:\\Users\\Shay\\AppData\\Roaming\\Python\\Python39\\site-packages\\xgboost\\sklearn.py:861: UserWarning: `eval_metric` in `fit` method is deprecated for better compatibility with scikit-learn, use `eval_metric` in constructor or`set_params` instead.\n",
      "  warnings.warn(\n",
      "\n",
      "C:\\Users\\Shay\\AppData\\Roaming\\Python\\Python39\\site-packages\\xgboost\\sklearn.py:861: UserWarning: `early_stopping_rounds` in `fit` method is deprecated for better compatibility with scikit-learn, use `early_stopping_rounds` in constructor or`set_params` instead.\n",
      "  warnings.warn(\n",
      "\n"
     ]
    },
    {
     "name": "stdout",
     "output_type": "stream",
     "text": [
      "[0]\tvalidation_0-auc:0.93523\tvalidation_1-auc:0.83502                                                                  \n",
      "[1]\tvalidation_0-auc:0.94252\tvalidation_1-auc:0.85614                                                                  \n",
      "[2]\tvalidation_0-auc:0.96508\tvalidation_1-auc:0.84224                                                                  \n",
      "[3]\tvalidation_0-auc:0.97334\tvalidation_1-auc:0.84378                                                                  \n",
      "SCORE:                                                                                                                 \n",
      "0.8561443932411675                                                                                                     \n",
      "Current max depth selected by algorithm:                                                                               \n",
      "24                                                                                                                     \n",
      " 70%|████████████████████████████████▉              | 70/100 [00:46<00:20,  1.50trial/s, best loss: 0.1423195084485407]"
     ]
    },
    {
     "name": "stderr",
     "output_type": "stream",
     "text": [
      "C:\\Users\\Shay\\AppData\\Roaming\\Python\\Python39\\site-packages\\xgboost\\sklearn.py:861: UserWarning: `eval_metric` in `fit` method is deprecated for better compatibility with scikit-learn, use `eval_metric` in constructor or`set_params` instead.\n",
      "  warnings.warn(\n",
      "\n",
      "C:\\Users\\Shay\\AppData\\Roaming\\Python\\Python39\\site-packages\\xgboost\\sklearn.py:861: UserWarning: `early_stopping_rounds` in `fit` method is deprecated for better compatibility with scikit-learn, use `early_stopping_rounds` in constructor or`set_params` instead.\n",
      "  warnings.warn(\n",
      "\n"
     ]
    },
    {
     "name": "stdout",
     "output_type": "stream",
     "text": [
      "[0]\tvalidation_0-auc:0.93523\tvalidation_1-auc:0.83502                                                                  \n",
      "[1]\tvalidation_0-auc:0.94252\tvalidation_1-auc:0.85614                                                                  \n",
      "[2]\tvalidation_0-auc:0.96508\tvalidation_1-auc:0.84224                                                                  \n",
      "[3]\tvalidation_0-auc:0.97334\tvalidation_1-auc:0.84378                                                                  \n",
      "[4]\tvalidation_0-auc:0.97927\tvalidation_1-auc:0.83057                                                                  \n",
      "SCORE:                                                                                                                 \n",
      "0.8561443932411675                                                                                                     \n",
      "Current max depth selected by algorithm:                                                                               \n",
      "9                                                                                                                      \n",
      " 71%|█████████████████████████████████▎             | 71/100 [00:47<00:19,  1.49trial/s, best loss: 0.1423195084485407]"
     ]
    },
    {
     "name": "stderr",
     "output_type": "stream",
     "text": [
      "C:\\Users\\Shay\\AppData\\Roaming\\Python\\Python39\\site-packages\\xgboost\\sklearn.py:861: UserWarning: `eval_metric` in `fit` method is deprecated for better compatibility with scikit-learn, use `eval_metric` in constructor or`set_params` instead.\n",
      "  warnings.warn(\n",
      "\n",
      "C:\\Users\\Shay\\AppData\\Roaming\\Python\\Python39\\site-packages\\xgboost\\sklearn.py:861: UserWarning: `early_stopping_rounds` in `fit` method is deprecated for better compatibility with scikit-learn, use `early_stopping_rounds` in constructor or`set_params` instead.\n",
      "  warnings.warn(\n",
      "\n"
     ]
    },
    {
     "name": "stdout",
     "output_type": "stream",
     "text": [
      "[0]\tvalidation_0-auc:0.93380\tvalidation_1-auc:0.83533                                                                  \n",
      "[1]\tvalidation_0-auc:0.94208\tvalidation_1-auc:0.85768                                                                  \n",
      "[2]\tvalidation_0-auc:0.96354\tvalidation_1-auc:0.84455                                                                  \n",
      "[3]\tvalidation_0-auc:0.97235\tvalidation_1-auc:0.84731                                                                  \n",
      "SCORE:                                                                                                                 \n",
      "0.8576804915514593                                                                                                     \n",
      "Current max depth selected by algorithm:                                                                               \n",
      "12                                                                                                                     \n",
      " 72%|█████████████████████████████████▊             | 72/100 [00:48<00:18,  1.48trial/s, best loss: 0.1423195084485407]"
     ]
    },
    {
     "name": "stderr",
     "output_type": "stream",
     "text": [
      "C:\\Users\\Shay\\AppData\\Roaming\\Python\\Python39\\site-packages\\xgboost\\sklearn.py:861: UserWarning: `eval_metric` in `fit` method is deprecated for better compatibility with scikit-learn, use `eval_metric` in constructor or`set_params` instead.\n",
      "  warnings.warn(\n",
      "\n",
      "C:\\Users\\Shay\\AppData\\Roaming\\Python\\Python39\\site-packages\\xgboost\\sklearn.py:861: UserWarning: `early_stopping_rounds` in `fit` method is deprecated for better compatibility with scikit-learn, use `early_stopping_rounds` in constructor or`set_params` instead.\n",
      "  warnings.warn(\n",
      "\n"
     ]
    },
    {
     "name": "stdout",
     "output_type": "stream",
     "text": [
      "[0]\tvalidation_0-auc:0.93523\tvalidation_1-auc:0.83502                                                                  \n",
      "[1]\tvalidation_0-auc:0.94252\tvalidation_1-auc:0.85614                                                                  \n",
      "[2]\tvalidation_0-auc:0.96508\tvalidation_1-auc:0.84224                                                                  \n",
      "[3]\tvalidation_0-auc:0.97334\tvalidation_1-auc:0.84378                                                                  \n",
      "SCORE:                                                                                                                 \n",
      "0.8561443932411675                                                                                                     \n",
      "Current max depth selected by algorithm:                                                                               \n",
      "6                                                                                                                      \n",
      " 73%|██████████████████████████████████▎            | 73/100 [00:48<00:18,  1.49trial/s, best loss: 0.1423195084485407]"
     ]
    },
    {
     "name": "stderr",
     "output_type": "stream",
     "text": [
      "C:\\Users\\Shay\\AppData\\Roaming\\Python\\Python39\\site-packages\\xgboost\\sklearn.py:861: UserWarning: `eval_metric` in `fit` method is deprecated for better compatibility with scikit-learn, use `eval_metric` in constructor or`set_params` instead.\n",
      "  warnings.warn(\n",
      "\n",
      "C:\\Users\\Shay\\AppData\\Roaming\\Python\\Python39\\site-packages\\xgboost\\sklearn.py:861: UserWarning: `early_stopping_rounds` in `fit` method is deprecated for better compatibility with scikit-learn, use `early_stopping_rounds` in constructor or`set_params` instead.\n",
      "  warnings.warn(\n",
      "\n"
     ]
    },
    {
     "name": "stdout",
     "output_type": "stream",
     "text": [
      "[0]\tvalidation_0-auc:0.92018\tvalidation_1-auc:0.83810                                                                  \n",
      "[1]\tvalidation_0-auc:0.92668\tvalidation_1-auc:0.85061                                                                  \n",
      "[2]\tvalidation_0-auc:0.94587\tvalidation_1-auc:0.83902                                                                  \n",
      "[3]\tvalidation_0-auc:0.95769\tvalidation_1-auc:0.83909                                                                  \n",
      "[4]\tvalidation_0-auc:0.96352\tvalidation_1-auc:0.83172                                                                  \n",
      "SCORE:                                                                                                                 \n",
      "0.8506144393241168                                                                                                     \n",
      "Current max depth selected by algorithm:                                                                               \n",
      "9                                                                                                                      \n",
      " 74%|██████████████████████████████████▊            | 74/100 [00:49<00:17,  1.51trial/s, best loss: 0.1423195084485407]"
     ]
    },
    {
     "name": "stderr",
     "output_type": "stream",
     "text": [
      "C:\\Users\\Shay\\AppData\\Roaming\\Python\\Python39\\site-packages\\xgboost\\sklearn.py:861: UserWarning: `eval_metric` in `fit` method is deprecated for better compatibility with scikit-learn, use `eval_metric` in constructor or`set_params` instead.\n",
      "  warnings.warn(\n",
      "\n",
      "C:\\Users\\Shay\\AppData\\Roaming\\Python\\Python39\\site-packages\\xgboost\\sklearn.py:861: UserWarning: `early_stopping_rounds` in `fit` method is deprecated for better compatibility with scikit-learn, use `early_stopping_rounds` in constructor or`set_params` instead.\n",
      "  warnings.warn(\n",
      "\n"
     ]
    },
    {
     "name": "stdout",
     "output_type": "stream",
     "text": [
      "[0]\tvalidation_0-auc:0.93380\tvalidation_1-auc:0.83533                                                                  \n",
      "[1]\tvalidation_0-auc:0.94208\tvalidation_1-auc:0.85768                                                                  \n",
      "[2]\tvalidation_0-auc:0.96354\tvalidation_1-auc:0.84455                                                                  \n",
      "[3]\tvalidation_0-auc:0.97235\tvalidation_1-auc:0.84731                                                                  \n",
      "SCORE:                                                                                                                 \n",
      "0.8576804915514593                                                                                                     \n",
      "Current max depth selected by algorithm:                                                                               \n",
      "29                                                                                                                     \n",
      " 75%|███████████████████████████████████▎           | 75/100 [00:50<00:16,  1.55trial/s, best loss: 0.1423195084485407]"
     ]
    },
    {
     "name": "stderr",
     "output_type": "stream",
     "text": [
      "C:\\Users\\Shay\\AppData\\Roaming\\Python\\Python39\\site-packages\\xgboost\\sklearn.py:861: UserWarning: `eval_metric` in `fit` method is deprecated for better compatibility with scikit-learn, use `eval_metric` in constructor or`set_params` instead.\n",
      "  warnings.warn(\n",
      "\n",
      "C:\\Users\\Shay\\AppData\\Roaming\\Python\\Python39\\site-packages\\xgboost\\sklearn.py:861: UserWarning: `early_stopping_rounds` in `fit` method is deprecated for better compatibility with scikit-learn, use `early_stopping_rounds` in constructor or`set_params` instead.\n",
      "  warnings.warn(\n",
      "\n"
     ]
    },
    {
     "name": "stdout",
     "output_type": "stream",
     "text": [
      "[0]\tvalidation_0-auc:0.93523\tvalidation_1-auc:0.83502                                                                  \n",
      "[1]\tvalidation_0-auc:0.94252\tvalidation_1-auc:0.85614                                                                  \n",
      "[2]\tvalidation_0-auc:0.96508\tvalidation_1-auc:0.84224                                                                  \n",
      "[3]\tvalidation_0-auc:0.97334\tvalidation_1-auc:0.84378                                                                  \n",
      "SCORE:                                                                                                                 \n",
      "0.8561443932411675                                                                                                     \n",
      "Current max depth selected by algorithm:                                                                               \n",
      "23                                                                                                                     \n",
      " 76%|███████████████████████████████████▋           | 76/100 [00:50<00:15,  1.55trial/s, best loss: 0.1423195084485407]"
     ]
    },
    {
     "name": "stderr",
     "output_type": "stream",
     "text": [
      "C:\\Users\\Shay\\AppData\\Roaming\\Python\\Python39\\site-packages\\xgboost\\sklearn.py:861: UserWarning: `eval_metric` in `fit` method is deprecated for better compatibility with scikit-learn, use `eval_metric` in constructor or`set_params` instead.\n",
      "  warnings.warn(\n",
      "\n",
      "C:\\Users\\Shay\\AppData\\Roaming\\Python\\Python39\\site-packages\\xgboost\\sklearn.py:861: UserWarning: `early_stopping_rounds` in `fit` method is deprecated for better compatibility with scikit-learn, use `early_stopping_rounds` in constructor or`set_params` instead.\n",
      "  warnings.warn(\n",
      "\n"
     ]
    },
    {
     "name": "stdout",
     "output_type": "stream",
     "text": [
      "[0]\tvalidation_0-auc:0.93523\tvalidation_1-auc:0.83502                                                                  \n",
      "[1]\tvalidation_0-auc:0.94252\tvalidation_1-auc:0.85614                                                                  \n",
      "[2]\tvalidation_0-auc:0.96508\tvalidation_1-auc:0.84224                                                                  \n",
      "[3]\tvalidation_0-auc:0.97334\tvalidation_1-auc:0.84378                                                                  \n",
      "[4]\tvalidation_0-auc:0.97927\tvalidation_1-auc:0.83057                                                                  \n",
      "SCORE:                                                                                                                 \n",
      "0.8561443932411675                                                                                                     \n",
      "Current max depth selected by algorithm:                                                                               \n",
      "7                                                                                                                      \n",
      " 77%|████████████████████████████████████▏          | 77/100 [00:51<00:14,  1.55trial/s, best loss: 0.1423195084485407]"
     ]
    },
    {
     "name": "stderr",
     "output_type": "stream",
     "text": [
      "C:\\Users\\Shay\\AppData\\Roaming\\Python\\Python39\\site-packages\\xgboost\\sklearn.py:861: UserWarning: `eval_metric` in `fit` method is deprecated for better compatibility with scikit-learn, use `eval_metric` in constructor or`set_params` instead.\n",
      "  warnings.warn(\n",
      "\n",
      "C:\\Users\\Shay\\AppData\\Roaming\\Python\\Python39\\site-packages\\xgboost\\sklearn.py:861: UserWarning: `early_stopping_rounds` in `fit` method is deprecated for better compatibility with scikit-learn, use `early_stopping_rounds` in constructor or`set_params` instead.\n",
      "  warnings.warn(\n",
      "\n"
     ]
    },
    {
     "name": "stdout",
     "output_type": "stream",
     "text": [
      "[0]\tvalidation_0-auc:0.92524\tvalidation_1-auc:0.84347                                                                  \n",
      "[1]\tvalidation_0-auc:0.93291\tvalidation_1-auc:0.85553                                                                  \n",
      "[2]\tvalidation_0-auc:0.95295\tvalidation_1-auc:0.84700                                                                  \n",
      "[3]\tvalidation_0-auc:0.96278\tvalidation_1-auc:0.84639                                                                  \n",
      "[4]\tvalidation_0-auc:0.96957\tvalidation_1-auc:0.83310                                                                  \n",
      "SCORE:                                                                                                                 \n",
      "0.8555299539170508                                                                                                     \n",
      "Current max depth selected by algorithm:                                                                               \n",
      "9                                                                                                                      \n",
      " 78%|████████████████████████████████████▋          | 78/100 [00:52<00:14,  1.56trial/s, best loss: 0.1423195084485407]"
     ]
    },
    {
     "name": "stderr",
     "output_type": "stream",
     "text": [
      "C:\\Users\\Shay\\AppData\\Roaming\\Python\\Python39\\site-packages\\xgboost\\sklearn.py:861: UserWarning: `eval_metric` in `fit` method is deprecated for better compatibility with scikit-learn, use `eval_metric` in constructor or`set_params` instead.\n",
      "  warnings.warn(\n",
      "\n",
      "C:\\Users\\Shay\\AppData\\Roaming\\Python\\Python39\\site-packages\\xgboost\\sklearn.py:861: UserWarning: `early_stopping_rounds` in `fit` method is deprecated for better compatibility with scikit-learn, use `early_stopping_rounds` in constructor or`set_params` instead.\n",
      "  warnings.warn(\n",
      "\n"
     ]
    },
    {
     "name": "stdout",
     "output_type": "stream",
     "text": [
      "[0]\tvalidation_0-auc:0.93380\tvalidation_1-auc:0.83533                                                                  \n",
      "[1]\tvalidation_0-auc:0.94208\tvalidation_1-auc:0.85768                                                                  \n",
      "[2]\tvalidation_0-auc:0.96354\tvalidation_1-auc:0.84455                                                                  \n",
      "[3]\tvalidation_0-auc:0.97235\tvalidation_1-auc:0.84731                                                                  \n",
      "[4]\tvalidation_0-auc:0.97688\tvalidation_1-auc:0.83510                                                                  \n",
      "SCORE:                                                                                                                 \n",
      "0.8576804915514593                                                                                                     \n",
      "Current max depth selected by algorithm:                                                                               \n",
      "8                                                                                                                      \n",
      " 79%|█████████████████████████████████████▏         | 79/100 [00:52<00:13,  1.57trial/s, best loss: 0.1423195084485407]"
     ]
    },
    {
     "name": "stderr",
     "output_type": "stream",
     "text": [
      "C:\\Users\\Shay\\AppData\\Roaming\\Python\\Python39\\site-packages\\xgboost\\sklearn.py:861: UserWarning: `eval_metric` in `fit` method is deprecated for better compatibility with scikit-learn, use `eval_metric` in constructor or`set_params` instead.\n",
      "  warnings.warn(\n",
      "\n",
      "C:\\Users\\Shay\\AppData\\Roaming\\Python\\Python39\\site-packages\\xgboost\\sklearn.py:861: UserWarning: `early_stopping_rounds` in `fit` method is deprecated for better compatibility with scikit-learn, use `early_stopping_rounds` in constructor or`set_params` instead.\n",
      "  warnings.warn(\n",
      "\n"
     ]
    },
    {
     "name": "stdout",
     "output_type": "stream",
     "text": [
      "[0]\tvalidation_0-auc:0.92876\tvalidation_1-auc:0.84178                                                                  \n",
      "[1]\tvalidation_0-auc:0.93884\tvalidation_1-auc:0.85361                                                                  \n",
      "[2]\tvalidation_0-auc:0.95729\tvalidation_1-auc:0.83909                                                                  \n",
      "[3]\tvalidation_0-auc:0.96841\tvalidation_1-auc:0.84316                                                                  \n",
      "[4]\tvalidation_0-auc:0.97539\tvalidation_1-auc:0.82903                                                                  \n",
      "SCORE:                                                                                                                 \n",
      "0.853609831029186                                                                                                      \n",
      "Current max depth selected by algorithm:                                                                               \n",
      "20                                                                                                                     \n",
      " 80%|█████████████████████████████████████▌         | 80/100 [00:53<00:12,  1.55trial/s, best loss: 0.1423195084485407]"
     ]
    },
    {
     "name": "stderr",
     "output_type": "stream",
     "text": [
      "C:\\Users\\Shay\\AppData\\Roaming\\Python\\Python39\\site-packages\\xgboost\\sklearn.py:861: UserWarning: `eval_metric` in `fit` method is deprecated for better compatibility with scikit-learn, use `eval_metric` in constructor or`set_params` instead.\n",
      "  warnings.warn(\n",
      "\n",
      "C:\\Users\\Shay\\AppData\\Roaming\\Python\\Python39\\site-packages\\xgboost\\sklearn.py:861: UserWarning: `early_stopping_rounds` in `fit` method is deprecated for better compatibility with scikit-learn, use `early_stopping_rounds` in constructor or`set_params` instead.\n",
      "  warnings.warn(\n",
      "\n"
     ]
    },
    {
     "name": "stdout",
     "output_type": "stream",
     "text": [
      "[0]\tvalidation_0-auc:0.93523\tvalidation_1-auc:0.83502                                                                  \n",
      "[1]\tvalidation_0-auc:0.94252\tvalidation_1-auc:0.85614                                                                  \n",
      "[2]\tvalidation_0-auc:0.96508\tvalidation_1-auc:0.84224                                                                  \n",
      "[3]\tvalidation_0-auc:0.97334\tvalidation_1-auc:0.84378                                                                  \n",
      "[4]\tvalidation_0-auc:0.97927\tvalidation_1-auc:0.83057                                                                  \n",
      "SCORE:                                                                                                                 \n",
      "0.8561443932411675                                                                                                     \n",
      "Current max depth selected by algorithm:                                                                               \n",
      "25                                                                                                                     \n",
      " 81%|██████████████████████████████████████         | 81/100 [00:54<00:12,  1.55trial/s, best loss: 0.1423195084485407]"
     ]
    },
    {
     "name": "stderr",
     "output_type": "stream",
     "text": [
      "C:\\Users\\Shay\\AppData\\Roaming\\Python\\Python39\\site-packages\\xgboost\\sklearn.py:861: UserWarning: `eval_metric` in `fit` method is deprecated for better compatibility with scikit-learn, use `eval_metric` in constructor or`set_params` instead.\n",
      "  warnings.warn(\n",
      "\n",
      "C:\\Users\\Shay\\AppData\\Roaming\\Python\\Python39\\site-packages\\xgboost\\sklearn.py:861: UserWarning: `early_stopping_rounds` in `fit` method is deprecated for better compatibility with scikit-learn, use `early_stopping_rounds` in constructor or`set_params` instead.\n",
      "  warnings.warn(\n",
      "\n"
     ]
    },
    {
     "name": "stdout",
     "output_type": "stream",
     "text": [
      "[0]\tvalidation_0-auc:0.93523\tvalidation_1-auc:0.83502                                                                  \n",
      "[1]\tvalidation_0-auc:0.94252\tvalidation_1-auc:0.85614                                                                  \n",
      "[2]\tvalidation_0-auc:0.96508\tvalidation_1-auc:0.84224                                                                  \n",
      "[3]\tvalidation_0-auc:0.97334\tvalidation_1-auc:0.84378                                                                  \n",
      "SCORE:                                                                                                                 \n",
      "0.8561443932411675                                                                                                     \n",
      "Current max depth selected by algorithm:                                                                               \n",
      "5                                                                                                                      \n",
      " 82%|██████████████████████████████████████▌        | 82/100 [00:54<00:11,  1.54trial/s, best loss: 0.1423195084485407]"
     ]
    },
    {
     "name": "stderr",
     "output_type": "stream",
     "text": [
      "C:\\Users\\Shay\\AppData\\Roaming\\Python\\Python39\\site-packages\\xgboost\\sklearn.py:861: UserWarning: `eval_metric` in `fit` method is deprecated for better compatibility with scikit-learn, use `eval_metric` in constructor or`set_params` instead.\n",
      "  warnings.warn(\n",
      "\n",
      "C:\\Users\\Shay\\AppData\\Roaming\\Python\\Python39\\site-packages\\xgboost\\sklearn.py:861: UserWarning: `early_stopping_rounds` in `fit` method is deprecated for better compatibility with scikit-learn, use `early_stopping_rounds` in constructor or`set_params` instead.\n",
      "  warnings.warn(\n",
      "\n"
     ]
    },
    {
     "name": "stdout",
     "output_type": "stream",
     "text": [
      "[0]\tvalidation_0-auc:0.91006\tvalidation_1-auc:0.83840                                                                  \n",
      "[1]\tvalidation_0-auc:0.91801\tvalidation_1-auc:0.83126                                                                  \n",
      "[2]\tvalidation_0-auc:0.93009\tvalidation_1-auc:0.83932                                                                  \n",
      "[3]\tvalidation_0-auc:0.93940\tvalidation_1-auc:0.83495                                                                  \n",
      "[4]\tvalidation_0-auc:0.94930\tvalidation_1-auc:0.82120                                                                  \n",
      "SCORE:                                                                                                                 \n",
      "0.8393241167434716                                                                                                     \n",
      "Current max depth selected by algorithm:                                                                               \n",
      "19                                                                                                                     \n",
      " 83%|███████████████████████████████████████        | 83/100 [00:55<00:11,  1.51trial/s, best loss: 0.1423195084485407]"
     ]
    },
    {
     "name": "stderr",
     "output_type": "stream",
     "text": [
      "C:\\Users\\Shay\\AppData\\Roaming\\Python\\Python39\\site-packages\\xgboost\\sklearn.py:861: UserWarning: `eval_metric` in `fit` method is deprecated for better compatibility with scikit-learn, use `eval_metric` in constructor or`set_params` instead.\n",
      "  warnings.warn(\n",
      "\n",
      "C:\\Users\\Shay\\AppData\\Roaming\\Python\\Python39\\site-packages\\xgboost\\sklearn.py:861: UserWarning: `early_stopping_rounds` in `fit` method is deprecated for better compatibility with scikit-learn, use `early_stopping_rounds` in constructor or`set_params` instead.\n",
      "  warnings.warn(\n",
      "\n"
     ]
    },
    {
     "name": "stdout",
     "output_type": "stream",
     "text": [
      "[0]\tvalidation_0-auc:0.93523\tvalidation_1-auc:0.83502                                                                  \n",
      "[1]\tvalidation_0-auc:0.94252\tvalidation_1-auc:0.85614                                                                  \n",
      "[2]\tvalidation_0-auc:0.96508\tvalidation_1-auc:0.84224                                                                  \n",
      "[3]\tvalidation_0-auc:0.97334\tvalidation_1-auc:0.84378                                                                  \n",
      "SCORE:                                                                                                                 \n",
      "0.8561443932411675                                                                                                     \n",
      "Current max depth selected by algorithm:                                                                               \n",
      "16                                                                                                                     \n",
      " 84%|███████████████████████████████████████▍       | 84/100 [00:56<00:10,  1.54trial/s, best loss: 0.1423195084485407]"
     ]
    },
    {
     "name": "stderr",
     "output_type": "stream",
     "text": [
      "C:\\Users\\Shay\\AppData\\Roaming\\Python\\Python39\\site-packages\\xgboost\\sklearn.py:861: UserWarning: `eval_metric` in `fit` method is deprecated for better compatibility with scikit-learn, use `eval_metric` in constructor or`set_params` instead.\n",
      "  warnings.warn(\n",
      "\n",
      "C:\\Users\\Shay\\AppData\\Roaming\\Python\\Python39\\site-packages\\xgboost\\sklearn.py:861: UserWarning: `early_stopping_rounds` in `fit` method is deprecated for better compatibility with scikit-learn, use `early_stopping_rounds` in constructor or`set_params` instead.\n",
      "  warnings.warn(\n",
      "\n"
     ]
    },
    {
     "name": "stdout",
     "output_type": "stream",
     "text": [
      "[0]\tvalidation_0-auc:0.93523\tvalidation_1-auc:0.83502                                                                  \n",
      "[1]\tvalidation_0-auc:0.94252\tvalidation_1-auc:0.85614                                                                  \n",
      "[2]\tvalidation_0-auc:0.96508\tvalidation_1-auc:0.84224                                                                  \n",
      "[3]\tvalidation_0-auc:0.97334\tvalidation_1-auc:0.84378                                                                  \n",
      "[4]\tvalidation_0-auc:0.97927\tvalidation_1-auc:0.83057                                                                  \n",
      "SCORE:                                                                                                                 \n",
      "0.8561443932411675                                                                                                     \n",
      "Current max depth selected by algorithm:                                                                               \n",
      "9                                                                                                                      \n",
      " 85%|███████████████████████████████████████▉       | 85/100 [00:56<00:09,  1.52trial/s, best loss: 0.1423195084485407]"
     ]
    },
    {
     "name": "stderr",
     "output_type": "stream",
     "text": [
      "C:\\Users\\Shay\\AppData\\Roaming\\Python\\Python39\\site-packages\\xgboost\\sklearn.py:861: UserWarning: `eval_metric` in `fit` method is deprecated for better compatibility with scikit-learn, use `eval_metric` in constructor or`set_params` instead.\n",
      "  warnings.warn(\n",
      "\n",
      "C:\\Users\\Shay\\AppData\\Roaming\\Python\\Python39\\site-packages\\xgboost\\sklearn.py:861: UserWarning: `early_stopping_rounds` in `fit` method is deprecated for better compatibility with scikit-learn, use `early_stopping_rounds` in constructor or`set_params` instead.\n",
      "  warnings.warn(\n",
      "\n"
     ]
    },
    {
     "name": "stdout",
     "output_type": "stream",
     "text": [
      "[0]\tvalidation_0-auc:0.93380\tvalidation_1-auc:0.83533                                                                  \n",
      "[1]\tvalidation_0-auc:0.94208\tvalidation_1-auc:0.85768                                                                  \n",
      "[2]\tvalidation_0-auc:0.96354\tvalidation_1-auc:0.84455                                                                  \n",
      "[3]\tvalidation_0-auc:0.97235\tvalidation_1-auc:0.84731                                                                  \n",
      "SCORE:                                                                                                                 \n",
      "0.8576804915514593                                                                                                     \n",
      "Current max depth selected by algorithm:                                                                               \n",
      "30                                                                                                                     \n",
      " 86%|████████████████████████████████████████▍      | 86/100 [00:57<00:09,  1.54trial/s, best loss: 0.1423195084485407]"
     ]
    },
    {
     "name": "stderr",
     "output_type": "stream",
     "text": [
      "C:\\Users\\Shay\\AppData\\Roaming\\Python\\Python39\\site-packages\\xgboost\\sklearn.py:861: UserWarning: `eval_metric` in `fit` method is deprecated for better compatibility with scikit-learn, use `eval_metric` in constructor or`set_params` instead.\n",
      "  warnings.warn(\n",
      "\n",
      "C:\\Users\\Shay\\AppData\\Roaming\\Python\\Python39\\site-packages\\xgboost\\sklearn.py:861: UserWarning: `early_stopping_rounds` in `fit` method is deprecated for better compatibility with scikit-learn, use `early_stopping_rounds` in constructor or`set_params` instead.\n",
      "  warnings.warn(\n",
      "\n"
     ]
    },
    {
     "name": "stdout",
     "output_type": "stream",
     "text": [
      "[0]\tvalidation_0-auc:0.93523\tvalidation_1-auc:0.83502                                                                  \n",
      "[1]\tvalidation_0-auc:0.94252\tvalidation_1-auc:0.85614                                                                  \n",
      "[2]\tvalidation_0-auc:0.96508\tvalidation_1-auc:0.84224                                                                  \n",
      "[3]\tvalidation_0-auc:0.97334\tvalidation_1-auc:0.84378                                                                  \n",
      "SCORE:                                                                                                                 \n",
      "0.8561443932411675                                                                                                     \n",
      "Current max depth selected by algorithm:                                                                               \n",
      "18                                                                                                                     \n",
      " 87%|████████████████████████████████████████▉      | 87/100 [00:57<00:08,  1.52trial/s, best loss: 0.1423195084485407]"
     ]
    },
    {
     "name": "stderr",
     "output_type": "stream",
     "text": [
      "C:\\Users\\Shay\\AppData\\Roaming\\Python\\Python39\\site-packages\\xgboost\\sklearn.py:861: UserWarning: `eval_metric` in `fit` method is deprecated for better compatibility with scikit-learn, use `eval_metric` in constructor or`set_params` instead.\n",
      "  warnings.warn(\n",
      "\n",
      "C:\\Users\\Shay\\AppData\\Roaming\\Python\\Python39\\site-packages\\xgboost\\sklearn.py:861: UserWarning: `early_stopping_rounds` in `fit` method is deprecated for better compatibility with scikit-learn, use `early_stopping_rounds` in constructor or`set_params` instead.\n",
      "  warnings.warn(\n",
      "\n"
     ]
    },
    {
     "name": "stdout",
     "output_type": "stream",
     "text": [
      "[0]\tvalidation_0-auc:0.93523\tvalidation_1-auc:0.83502                                                                  \n",
      "[1]\tvalidation_0-auc:0.94252\tvalidation_1-auc:0.85614                                                                  \n",
      "[2]\tvalidation_0-auc:0.96508\tvalidation_1-auc:0.84224                                                                  \n",
      "[3]\tvalidation_0-auc:0.97334\tvalidation_1-auc:0.84378                                                                  \n",
      "[4]\tvalidation_0-auc:0.97927\tvalidation_1-auc:0.83057                                                                  \n",
      "SCORE:                                                                                                                 \n",
      "0.8561443932411675                                                                                                     \n",
      "Current max depth selected by algorithm:                                                                               \n",
      "26                                                                                                                     \n",
      " 88%|█████████████████████████████████████████▎     | 88/100 [00:58<00:07,  1.51trial/s, best loss: 0.1423195084485407]"
     ]
    },
    {
     "name": "stderr",
     "output_type": "stream",
     "text": [
      "C:\\Users\\Shay\\AppData\\Roaming\\Python\\Python39\\site-packages\\xgboost\\sklearn.py:861: UserWarning: `eval_metric` in `fit` method is deprecated for better compatibility with scikit-learn, use `eval_metric` in constructor or`set_params` instead.\n",
      "  warnings.warn(\n",
      "\n",
      "C:\\Users\\Shay\\AppData\\Roaming\\Python\\Python39\\site-packages\\xgboost\\sklearn.py:861: UserWarning: `early_stopping_rounds` in `fit` method is deprecated for better compatibility with scikit-learn, use `early_stopping_rounds` in constructor or`set_params` instead.\n",
      "  warnings.warn(\n",
      "\n"
     ]
    },
    {
     "name": "stdout",
     "output_type": "stream",
     "text": [
      "[0]\tvalidation_0-auc:0.93523\tvalidation_1-auc:0.83502                                                                  \n",
      "[1]\tvalidation_0-auc:0.94252\tvalidation_1-auc:0.85614                                                                  \n",
      "[2]\tvalidation_0-auc:0.96508\tvalidation_1-auc:0.84224                                                                  \n",
      "[3]\tvalidation_0-auc:0.97334\tvalidation_1-auc:0.84378                                                                  \n",
      "[4]\tvalidation_0-auc:0.97927\tvalidation_1-auc:0.83057                                                                  \n",
      "SCORE:                                                                                                                 \n",
      "0.8561443932411675                                                                                                     \n",
      "Current max depth selected by algorithm:                                                                               \n",
      "22                                                                                                                     \n",
      " 89%|█████████████████████████████████████████▊     | 89/100 [00:59<00:07,  1.51trial/s, best loss: 0.1423195084485407]"
     ]
    },
    {
     "name": "stderr",
     "output_type": "stream",
     "text": [
      "C:\\Users\\Shay\\AppData\\Roaming\\Python\\Python39\\site-packages\\xgboost\\sklearn.py:861: UserWarning: `eval_metric` in `fit` method is deprecated for better compatibility with scikit-learn, use `eval_metric` in constructor or`set_params` instead.\n",
      "  warnings.warn(\n",
      "\n",
      "C:\\Users\\Shay\\AppData\\Roaming\\Python\\Python39\\site-packages\\xgboost\\sklearn.py:861: UserWarning: `early_stopping_rounds` in `fit` method is deprecated for better compatibility with scikit-learn, use `early_stopping_rounds` in constructor or`set_params` instead.\n",
      "  warnings.warn(\n",
      "\n"
     ]
    },
    {
     "name": "stdout",
     "output_type": "stream",
     "text": [
      "[0]\tvalidation_0-auc:0.93523\tvalidation_1-auc:0.83502                                                                  \n",
      "[1]\tvalidation_0-auc:0.94252\tvalidation_1-auc:0.85614                                                                  \n",
      "[2]\tvalidation_0-auc:0.96508\tvalidation_1-auc:0.84224                                                                  \n",
      "[3]\tvalidation_0-auc:0.97334\tvalidation_1-auc:0.84378                                                                  \n",
      "SCORE:                                                                                                                 \n",
      "0.8561443932411675                                                                                                     \n",
      "Current max depth selected by algorithm:                                                                               \n",
      "13                                                                                                                     \n",
      " 90%|██████████████████████████████████████████▎    | 90/100 [00:59<00:06,  1.52trial/s, best loss: 0.1423195084485407]"
     ]
    },
    {
     "name": "stderr",
     "output_type": "stream",
     "text": [
      "C:\\Users\\Shay\\AppData\\Roaming\\Python\\Python39\\site-packages\\xgboost\\sklearn.py:861: UserWarning: `eval_metric` in `fit` method is deprecated for better compatibility with scikit-learn, use `eval_metric` in constructor or`set_params` instead.\n",
      "  warnings.warn(\n",
      "\n",
      "C:\\Users\\Shay\\AppData\\Roaming\\Python\\Python39\\site-packages\\xgboost\\sklearn.py:861: UserWarning: `early_stopping_rounds` in `fit` method is deprecated for better compatibility with scikit-learn, use `early_stopping_rounds` in constructor or`set_params` instead.\n",
      "  warnings.warn(\n",
      "\n"
     ]
    },
    {
     "name": "stdout",
     "output_type": "stream",
     "text": [
      "[0]\tvalidation_0-auc:0.93523\tvalidation_1-auc:0.83502                                                                  \n",
      "[1]\tvalidation_0-auc:0.94252\tvalidation_1-auc:0.85614                                                                  \n",
      "[2]\tvalidation_0-auc:0.96508\tvalidation_1-auc:0.84224                                                                  \n",
      "[3]\tvalidation_0-auc:0.97334\tvalidation_1-auc:0.84378                                                                  \n",
      "[4]\tvalidation_0-auc:0.97927\tvalidation_1-auc:0.83057                                                                  \n",
      "SCORE:                                                                                                                 \n",
      "0.8561443932411675                                                                                                     \n",
      "Current max depth selected by algorithm:                                                                               \n",
      "15                                                                                                                     \n",
      " 91%|██████████████████████████████████████████▊    | 91/100 [01:00<00:06,  1.44trial/s, best loss: 0.1423195084485407]"
     ]
    },
    {
     "name": "stderr",
     "output_type": "stream",
     "text": [
      "C:\\Users\\Shay\\AppData\\Roaming\\Python\\Python39\\site-packages\\xgboost\\sklearn.py:861: UserWarning: `eval_metric` in `fit` method is deprecated for better compatibility with scikit-learn, use `eval_metric` in constructor or`set_params` instead.\n",
      "  warnings.warn(\n",
      "\n",
      "C:\\Users\\Shay\\AppData\\Roaming\\Python\\Python39\\site-packages\\xgboost\\sklearn.py:861: UserWarning: `early_stopping_rounds` in `fit` method is deprecated for better compatibility with scikit-learn, use `early_stopping_rounds` in constructor or`set_params` instead.\n",
      "  warnings.warn(\n",
      "\n"
     ]
    },
    {
     "name": "stdout",
     "output_type": "stream",
     "text": [
      "[0]\tvalidation_0-auc:0.93523\tvalidation_1-auc:0.83502                                                                  \n",
      "[1]\tvalidation_0-auc:0.94252\tvalidation_1-auc:0.85614                                                                  \n",
      "[2]\tvalidation_0-auc:0.96508\tvalidation_1-auc:0.84224                                                                  \n",
      "[3]\tvalidation_0-auc:0.97334\tvalidation_1-auc:0.84378                                                                  \n",
      "[4]\tvalidation_0-auc:0.97927\tvalidation_1-auc:0.83057                                                                  \n",
      "SCORE:                                                                                                                 \n",
      "0.8561443932411675                                                                                                     \n",
      "Current max depth selected by algorithm:                                                                               \n",
      "10                                                                                                                     \n",
      " 92%|███████████████████████████████████████████▏   | 92/100 [01:01<00:05,  1.35trial/s, best loss: 0.1423195084485407]"
     ]
    },
    {
     "name": "stderr",
     "output_type": "stream",
     "text": [
      "C:\\Users\\Shay\\AppData\\Roaming\\Python\\Python39\\site-packages\\xgboost\\sklearn.py:861: UserWarning: `eval_metric` in `fit` method is deprecated for better compatibility with scikit-learn, use `eval_metric` in constructor or`set_params` instead.\n",
      "  warnings.warn(\n",
      "\n",
      "C:\\Users\\Shay\\AppData\\Roaming\\Python\\Python39\\site-packages\\xgboost\\sklearn.py:861: UserWarning: `early_stopping_rounds` in `fit` method is deprecated for better compatibility with scikit-learn, use `early_stopping_rounds` in constructor or`set_params` instead.\n",
      "  warnings.warn(\n",
      "\n"
     ]
    },
    {
     "name": "stdout",
     "output_type": "stream",
     "text": [
      "[0]\tvalidation_0-auc:0.93445\tvalidation_1-auc:0.83671                                                                  \n",
      "[1]\tvalidation_0-auc:0.94227\tvalidation_1-auc:0.85722                                                                  \n",
      "[2]\tvalidation_0-auc:0.96475\tvalidation_1-auc:0.84240                                                                  \n",
      "[3]\tvalidation_0-auc:0.97344\tvalidation_1-auc:0.84347                                                                  \n",
      "SCORE:                                                                                                                 \n",
      "0.8572196620583719                                                                                                     \n",
      "Current max depth selected by algorithm:                                                                               \n",
      "9                                                                                                                      \n",
      " 93%|███████████████████████████████████████████▋   | 93/100 [01:02<00:05,  1.30trial/s, best loss: 0.1423195084485407]"
     ]
    },
    {
     "name": "stderr",
     "output_type": "stream",
     "text": [
      "C:\\Users\\Shay\\AppData\\Roaming\\Python\\Python39\\site-packages\\xgboost\\sklearn.py:861: UserWarning: `eval_metric` in `fit` method is deprecated for better compatibility with scikit-learn, use `eval_metric` in constructor or`set_params` instead.\n",
      "  warnings.warn(\n",
      "\n",
      "C:\\Users\\Shay\\AppData\\Roaming\\Python\\Python39\\site-packages\\xgboost\\sklearn.py:861: UserWarning: `early_stopping_rounds` in `fit` method is deprecated for better compatibility with scikit-learn, use `early_stopping_rounds` in constructor or`set_params` instead.\n",
      "  warnings.warn(\n",
      "\n"
     ]
    },
    {
     "name": "stdout",
     "output_type": "stream",
     "text": [
      "[0]\tvalidation_0-auc:0.93380\tvalidation_1-auc:0.83533                                                                  \n",
      "[1]\tvalidation_0-auc:0.94208\tvalidation_1-auc:0.85768                                                                  \n",
      "[2]\tvalidation_0-auc:0.96354\tvalidation_1-auc:0.84455                                                                  \n",
      "[3]\tvalidation_0-auc:0.97235\tvalidation_1-auc:0.84731                                                                  \n",
      "SCORE:                                                                                                                 \n",
      "0.8576804915514593                                                                                                     \n",
      "Current max depth selected by algorithm:                                                                               \n",
      "21                                                                                                                     \n",
      " 94%|████████████████████████████████████████████▏  | 94/100 [01:03<00:04,  1.24trial/s, best loss: 0.1423195084485407]"
     ]
    },
    {
     "name": "stderr",
     "output_type": "stream",
     "text": [
      "C:\\Users\\Shay\\AppData\\Roaming\\Python\\Python39\\site-packages\\xgboost\\sklearn.py:861: UserWarning: `eval_metric` in `fit` method is deprecated for better compatibility with scikit-learn, use `eval_metric` in constructor or`set_params` instead.\n",
      "  warnings.warn(\n",
      "\n",
      "C:\\Users\\Shay\\AppData\\Roaming\\Python\\Python39\\site-packages\\xgboost\\sklearn.py:861: UserWarning: `early_stopping_rounds` in `fit` method is deprecated for better compatibility with scikit-learn, use `early_stopping_rounds` in constructor or`set_params` instead.\n",
      "  warnings.warn(\n",
      "\n"
     ]
    },
    {
     "name": "stdout",
     "output_type": "stream",
     "text": [
      "[0]\tvalidation_0-auc:0.93523\tvalidation_1-auc:0.83502                                                                  \n",
      "[1]\tvalidation_0-auc:0.94252\tvalidation_1-auc:0.85614                                                                  \n",
      "[2]\tvalidation_0-auc:0.96508\tvalidation_1-auc:0.84224                                                                  \n",
      "[3]\tvalidation_0-auc:0.97334\tvalidation_1-auc:0.84378                                                                  \n",
      "[4]\tvalidation_0-auc:0.97927\tvalidation_1-auc:0.83057                                                                  \n",
      "SCORE:                                                                                                                 \n",
      "0.8561443932411675                                                                                                     \n",
      "Current max depth selected by algorithm:                                                                               \n",
      "28                                                                                                                     \n",
      " 95%|████████████████████████████████████████████▋  | 95/100 [01:04<00:04,  1.21trial/s, best loss: 0.1423195084485407]"
     ]
    },
    {
     "name": "stderr",
     "output_type": "stream",
     "text": [
      "C:\\Users\\Shay\\AppData\\Roaming\\Python\\Python39\\site-packages\\xgboost\\sklearn.py:861: UserWarning: `eval_metric` in `fit` method is deprecated for better compatibility with scikit-learn, use `eval_metric` in constructor or`set_params` instead.\n",
      "  warnings.warn(\n",
      "\n",
      "C:\\Users\\Shay\\AppData\\Roaming\\Python\\Python39\\site-packages\\xgboost\\sklearn.py:861: UserWarning: `early_stopping_rounds` in `fit` method is deprecated for better compatibility with scikit-learn, use `early_stopping_rounds` in constructor or`set_params` instead.\n",
      "  warnings.warn(\n",
      "\n"
     ]
    },
    {
     "name": "stdout",
     "output_type": "stream",
     "text": [
      "[0]\tvalidation_0-auc:0.93523\tvalidation_1-auc:0.83502                                                                  \n",
      "[1]\tvalidation_0-auc:0.94252\tvalidation_1-auc:0.85614                                                                  \n",
      "[2]\tvalidation_0-auc:0.96508\tvalidation_1-auc:0.84224                                                                  \n",
      "[3]\tvalidation_0-auc:0.97334\tvalidation_1-auc:0.84378                                                                  \n",
      "SCORE:                                                                                                                 \n",
      "0.8561443932411675                                                                                                     \n",
      "Current max depth selected by algorithm:                                                                               \n",
      "27                                                                                                                     \n",
      " 96%|█████████████████████████████████████████████  | 96/100 [01:05<00:03,  1.20trial/s, best loss: 0.1423195084485407]"
     ]
    },
    {
     "name": "stderr",
     "output_type": "stream",
     "text": [
      "C:\\Users\\Shay\\AppData\\Roaming\\Python\\Python39\\site-packages\\xgboost\\sklearn.py:861: UserWarning: `eval_metric` in `fit` method is deprecated for better compatibility with scikit-learn, use `eval_metric` in constructor or`set_params` instead.\n",
      "  warnings.warn(\n",
      "\n",
      "C:\\Users\\Shay\\AppData\\Roaming\\Python\\Python39\\site-packages\\xgboost\\sklearn.py:861: UserWarning: `early_stopping_rounds` in `fit` method is deprecated for better compatibility with scikit-learn, use `early_stopping_rounds` in constructor or`set_params` instead.\n",
      "  warnings.warn(\n",
      "\n"
     ]
    },
    {
     "name": "stdout",
     "output_type": "stream",
     "text": [
      "[0]\tvalidation_0-auc:0.93523\tvalidation_1-auc:0.83502                                                                  \n",
      "[1]\tvalidation_0-auc:0.94252\tvalidation_1-auc:0.85614                                                                  \n",
      "[2]\tvalidation_0-auc:0.96508\tvalidation_1-auc:0.84224                                                                  \n",
      "[3]\tvalidation_0-auc:0.97334\tvalidation_1-auc:0.84378                                                                  \n",
      "SCORE:                                                                                                                 \n",
      "0.8561443932411675                                                                                                     \n",
      "Current max depth selected by algorithm:                                                                               \n",
      "14                                                                                                                     \n",
      " 97%|█████████████████████████████████████████████▌ | 97/100 [01:05<00:02,  1.27trial/s, best loss: 0.1423195084485407]"
     ]
    },
    {
     "name": "stderr",
     "output_type": "stream",
     "text": [
      "C:\\Users\\Shay\\AppData\\Roaming\\Python\\Python39\\site-packages\\xgboost\\sklearn.py:861: UserWarning: `eval_metric` in `fit` method is deprecated for better compatibility with scikit-learn, use `eval_metric` in constructor or`set_params` instead.\n",
      "  warnings.warn(\n",
      "\n",
      "C:\\Users\\Shay\\AppData\\Roaming\\Python\\Python39\\site-packages\\xgboost\\sklearn.py:861: UserWarning: `early_stopping_rounds` in `fit` method is deprecated for better compatibility with scikit-learn, use `early_stopping_rounds` in constructor or`set_params` instead.\n",
      "  warnings.warn(\n",
      "\n"
     ]
    },
    {
     "name": "stdout",
     "output_type": "stream",
     "text": [
      "[0]\tvalidation_0-auc:0.93523\tvalidation_1-auc:0.83502                                                                  \n",
      "[1]\tvalidation_0-auc:0.94252\tvalidation_1-auc:0.85614                                                                  \n",
      "[2]\tvalidation_0-auc:0.96508\tvalidation_1-auc:0.84224                                                                  \n",
      "[3]\tvalidation_0-auc:0.97334\tvalidation_1-auc:0.84378                                                                  \n",
      "[4]\tvalidation_0-auc:0.97927\tvalidation_1-auc:0.83057                                                                  \n",
      "SCORE:                                                                                                                 \n",
      "0.8561443932411675                                                                                                     \n",
      "Current max depth selected by algorithm:                                                                               \n",
      "17                                                                                                                     \n",
      " 98%|██████████████████████████████████████████████ | 98/100 [01:06<00:01,  1.27trial/s, best loss: 0.1423195084485407]"
     ]
    },
    {
     "name": "stderr",
     "output_type": "stream",
     "text": [
      "C:\\Users\\Shay\\AppData\\Roaming\\Python\\Python39\\site-packages\\xgboost\\sklearn.py:861: UserWarning: `eval_metric` in `fit` method is deprecated for better compatibility with scikit-learn, use `eval_metric` in constructor or`set_params` instead.\n",
      "  warnings.warn(\n",
      "\n",
      "C:\\Users\\Shay\\AppData\\Roaming\\Python\\Python39\\site-packages\\xgboost\\sklearn.py:861: UserWarning: `early_stopping_rounds` in `fit` method is deprecated for better compatibility with scikit-learn, use `early_stopping_rounds` in constructor or`set_params` instead.\n",
      "  warnings.warn(\n",
      "\n"
     ]
    },
    {
     "name": "stdout",
     "output_type": "stream",
     "text": [
      "[0]\tvalidation_0-auc:0.93523\tvalidation_1-auc:0.83502                                                                  \n",
      "[1]\tvalidation_0-auc:0.94252\tvalidation_1-auc:0.85614                                                                  \n",
      "[2]\tvalidation_0-auc:0.96508\tvalidation_1-auc:0.84224                                                                  \n",
      "[3]\tvalidation_0-auc:0.97334\tvalidation_1-auc:0.84378                                                                  \n",
      "[4]\tvalidation_0-auc:0.97927\tvalidation_1-auc:0.83057                                                                  \n",
      "SCORE:                                                                                                                 \n",
      "0.8561443932411675                                                                                                     \n",
      "Current max depth selected by algorithm:                                                                               \n",
      "9                                                                                                                      \n",
      " 99%|██████████████████████████████████████████████▌| 99/100 [01:07<00:00,  1.20trial/s, best loss: 0.1423195084485407]"
     ]
    },
    {
     "name": "stderr",
     "output_type": "stream",
     "text": [
      "C:\\Users\\Shay\\AppData\\Roaming\\Python\\Python39\\site-packages\\xgboost\\sklearn.py:861: UserWarning: `eval_metric` in `fit` method is deprecated for better compatibility with scikit-learn, use `eval_metric` in constructor or`set_params` instead.\n",
      "  warnings.warn(\n",
      "\n",
      "C:\\Users\\Shay\\AppData\\Roaming\\Python\\Python39\\site-packages\\xgboost\\sklearn.py:861: UserWarning: `early_stopping_rounds` in `fit` method is deprecated for better compatibility with scikit-learn, use `early_stopping_rounds` in constructor or`set_params` instead.\n",
      "  warnings.warn(\n",
      "\n"
     ]
    },
    {
     "name": "stdout",
     "output_type": "stream",
     "text": [
      "[0]\tvalidation_0-auc:0.93380\tvalidation_1-auc:0.83533                                                                  \n",
      "[1]\tvalidation_0-auc:0.94208\tvalidation_1-auc:0.85768                                                                  \n",
      "[2]\tvalidation_0-auc:0.96354\tvalidation_1-auc:0.84455                                                                  \n",
      "[3]\tvalidation_0-auc:0.97235\tvalidation_1-auc:0.84731                                                                  \n",
      "SCORE:                                                                                                                 \n",
      "0.8576804915514593                                                                                                     \n",
      "100%|██████████████████████████████████████████████| 100/100 [01:08<00:00,  1.47trial/s, best loss: 0.1423195084485407]\n",
      "{'max_depth': 4}\n"
     ]
    }
   ],
   "source": [
    "def objective(space):\n",
    "\n",
    "    print(\"Current max depth selected by algorithm: \",space['max_depth'])\n",
    "    clf = xgb.XGBClassifier(n_estimators = 100,\n",
    "                            max_depth = space['max_depth'],\n",
    "#                            min_child_weight = space['min_child_weight'],\n",
    "#                            subsample = space['subsample']\n",
    "                           )\n",
    "\n",
    "    eval_set  = [( x_train, y_train), ( x_val, y_val)]\n",
    "\n",
    "    clf.fit(x_train, y_train,\n",
    "            eval_set=eval_set, eval_metric=\"auc\",\n",
    "            early_stopping_rounds=3)\n",
    "\n",
    "    pred = clf.predict_proba(x_val)[:,1]\n",
    "    auc = roc_auc_score(y_val, pred)\n",
    "    print (\"SCORE:\", auc)\n",
    "\n",
    "    return{'loss':1-auc, 'status': STATUS_OK }\n",
    "\n",
    "\n",
    "space ={\n",
    "        'max_depth': hp.choice('max_depth', np.arange(5, 30+1, dtype=int))#,\n",
    "        #'min_child_weight': hp.quniform ('x_min_child', 1, 10, 1),\n",
    "        #'subsample': hp.uniform ('x_subsample', 0.8, 1)\n",
    "    }\n",
    "\n",
    "\n",
    "trials = Trials()\n",
    "best = fmin(fn=objective,\n",
    "            space=space,\n",
    "            algo=tpe.suggest,\n",
    "            max_evals=100,\n",
    "            trials=trials)\n",
    "\n",
    "print (best)"
   ]
  },
  {
   "cell_type": "code",
   "execution_count": null,
   "metadata": {},
   "outputs": [],
   "source": []
  }
 ],
 "metadata": {
  "kernelspec": {
   "display_name": "Python 3 (ipykernel)",
   "language": "python",
   "name": "python3"
  },
  "language_info": {
   "codemirror_mode": {
    "name": "ipython",
    "version": 3
   },
   "file_extension": ".py",
   "mimetype": "text/x-python",
   "name": "python",
   "nbconvert_exporter": "python",
   "pygments_lexer": "ipython3",
   "version": "3.9.13"
  }
 },
 "nbformat": 4,
 "nbformat_minor": 1
}
